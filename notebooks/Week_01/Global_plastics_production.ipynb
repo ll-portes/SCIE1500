{
 "cells": [
  {
   "cell_type": "markdown",
   "id": "d66fe070",
   "metadata": {},
   "source": [
    "# Analysis of Global Plastics Production Data\n",
    "**SCIE1500**\n",
    "\n",
    "*Atakelty Hailu, Leonardo Portes*\n",
    "\n",
    "*February 20, 2022*\n",
    "\n",
    "---"
   ]
  },
  {
   "cell_type": "code",
   "execution_count": 1,
   "id": "0c6bad79",
   "metadata": {},
   "outputs": [],
   "source": [
    "# loading packages\n",
    "\n",
    "%matplotlib inline\n",
    "\n",
    "import numpy as np\n",
    "import pandas as pd\n",
    "import matplotlib.pyplot as plt\n",
    "import seaborn as sns"
   ]
  },
  {
   "cell_type": "markdown",
   "id": "8f61928f",
   "metadata": {},
   "source": [
    "## INSTRUCTIONS\n",
    "\n",
    "1. Follow this [link](https://ourworldindata.org/plastic-pollution?utm_source=newsletter) to download the dataset *global-plastics-production.csv*: \n",
    "   * Scroll down to “How much plastic does the world produce?”\n",
    "   * Select the tab “DOWNLOAD” on the right chart. \n",
    "   * Download the **Full data (CSV)**. \n",
    "\n",
    "\n",
    "2. Read in the data on global plastics production, visualise and explore it, and then determine what type of equation or mathematical model would describe the relationship between production and time. \n",
    "\n",
    "\n",
    "3. The exercises can also be done in Excel or other software (e.g. Python).\n",
    "\n",
    " "
   ]
  },
  {
   "cell_type": "markdown",
   "id": "f32e5b09",
   "metadata": {},
   "source": [
    "---\n",
    "Step 1: Read in downloaded data and explore\n",
    "---\n",
    "\n"
   ]
  },
  {
   "cell_type": "code",
   "execution_count": 2,
   "id": "e0b4db56",
   "metadata": {},
   "outputs": [
    {
     "data": {
      "text/html": [
       "<div>\n",
       "<style scoped>\n",
       "    .dataframe tbody tr th:only-of-type {\n",
       "        vertical-align: middle;\n",
       "    }\n",
       "\n",
       "    .dataframe tbody tr th {\n",
       "        vertical-align: top;\n",
       "    }\n",
       "\n",
       "    .dataframe thead th {\n",
       "        text-align: right;\n",
       "    }\n",
       "</style>\n",
       "<table border=\"1\" class=\"dataframe\">\n",
       "  <thead>\n",
       "    <tr style=\"text-align: right;\">\n",
       "      <th></th>\n",
       "      <th>Entity</th>\n",
       "      <th>Code</th>\n",
       "      <th>Year</th>\n",
       "      <th>Global plastics production (million tonnes)</th>\n",
       "    </tr>\n",
       "  </thead>\n",
       "  <tbody>\n",
       "    <tr>\n",
       "      <th>0</th>\n",
       "      <td>World</td>\n",
       "      <td>OWID_WRL</td>\n",
       "      <td>1950</td>\n",
       "      <td>2000000</td>\n",
       "    </tr>\n",
       "    <tr>\n",
       "      <th>1</th>\n",
       "      <td>World</td>\n",
       "      <td>OWID_WRL</td>\n",
       "      <td>1951</td>\n",
       "      <td>2000000</td>\n",
       "    </tr>\n",
       "    <tr>\n",
       "      <th>2</th>\n",
       "      <td>World</td>\n",
       "      <td>OWID_WRL</td>\n",
       "      <td>1952</td>\n",
       "      <td>2000000</td>\n",
       "    </tr>\n",
       "    <tr>\n",
       "      <th>3</th>\n",
       "      <td>World</td>\n",
       "      <td>OWID_WRL</td>\n",
       "      <td>1953</td>\n",
       "      <td>3000000</td>\n",
       "    </tr>\n",
       "    <tr>\n",
       "      <th>4</th>\n",
       "      <td>World</td>\n",
       "      <td>OWID_WRL</td>\n",
       "      <td>1954</td>\n",
       "      <td>3000000</td>\n",
       "    </tr>\n",
       "    <tr>\n",
       "      <th>...</th>\n",
       "      <td>...</td>\n",
       "      <td>...</td>\n",
       "      <td>...</td>\n",
       "      <td>...</td>\n",
       "    </tr>\n",
       "    <tr>\n",
       "      <th>61</th>\n",
       "      <td>World</td>\n",
       "      <td>OWID_WRL</td>\n",
       "      <td>2011</td>\n",
       "      <td>325000000</td>\n",
       "    </tr>\n",
       "    <tr>\n",
       "      <th>62</th>\n",
       "      <td>World</td>\n",
       "      <td>OWID_WRL</td>\n",
       "      <td>2012</td>\n",
       "      <td>338000000</td>\n",
       "    </tr>\n",
       "    <tr>\n",
       "      <th>63</th>\n",
       "      <td>World</td>\n",
       "      <td>OWID_WRL</td>\n",
       "      <td>2013</td>\n",
       "      <td>352000000</td>\n",
       "    </tr>\n",
       "    <tr>\n",
       "      <th>64</th>\n",
       "      <td>World</td>\n",
       "      <td>OWID_WRL</td>\n",
       "      <td>2014</td>\n",
       "      <td>367000000</td>\n",
       "    </tr>\n",
       "    <tr>\n",
       "      <th>65</th>\n",
       "      <td>World</td>\n",
       "      <td>OWID_WRL</td>\n",
       "      <td>2015</td>\n",
       "      <td>381000000</td>\n",
       "    </tr>\n",
       "  </tbody>\n",
       "</table>\n",
       "<p>66 rows × 4 columns</p>\n",
       "</div>"
      ],
      "text/plain": [
       "   Entity      Code  Year  Global plastics production (million tonnes)\n",
       "0   World  OWID_WRL  1950                                      2000000\n",
       "1   World  OWID_WRL  1951                                      2000000\n",
       "2   World  OWID_WRL  1952                                      2000000\n",
       "3   World  OWID_WRL  1953                                      3000000\n",
       "4   World  OWID_WRL  1954                                      3000000\n",
       "..    ...       ...   ...                                          ...\n",
       "61  World  OWID_WRL  2011                                    325000000\n",
       "62  World  OWID_WRL  2012                                    338000000\n",
       "63  World  OWID_WRL  2013                                    352000000\n",
       "64  World  OWID_WRL  2014                                    367000000\n",
       "65  World  OWID_WRL  2015                                    381000000\n",
       "\n",
       "[66 rows x 4 columns]"
      ]
     },
     "execution_count": 2,
     "metadata": {},
     "output_type": "execute_result"
    }
   ],
   "source": [
    "gpp = pd.read_csv(\"global-plastics-production.csv\")\n",
    "\n",
    "gpp"
   ]
  },
  {
   "cell_type": "markdown",
   "id": "dfd7bedc",
   "metadata": {},
   "source": [
    "**Questions**\n",
    "\n",
    "1. What is the min, max, mean of gpp?\n",
    "2. What are the log values of these statistics (min, max, mean)?"
   ]
  },
  {
   "cell_type": "code",
   "execution_count": 3,
   "id": "8eeb99f9",
   "metadata": {},
   "outputs": [
    {
     "data": {
      "text/plain": [
       "count    6.600000e+01\n",
       "mean     1.185303e+08\n",
       "std      1.126182e+08\n",
       "min      2.000000e+06\n",
       "25%      2.075000e+07\n",
       "50%      7.650000e+07\n",
       "75%      1.985000e+08\n",
       "max      3.810000e+08\n",
       "Name: Global plastics production (million tonnes), dtype: float64"
      ]
     },
     "execution_count": 3,
     "metadata": {},
     "output_type": "execute_result"
    }
   ],
   "source": [
    "# Q1\n",
    "\n",
    "gpp[\"Global plastics production (million tonnes)\"].describe()"
   ]
  },
  {
   "cell_type": "code",
   "execution_count": 4,
   "id": "37f7d867",
   "metadata": {},
   "outputs": [
    {
     "name": "stdout",
     "output_type": "stream",
     "text": [
      "6.301029995663981\n",
      "8.58092497567562\n",
      "8.073829394704156\n"
     ]
    }
   ],
   "source": [
    "# Q2\n",
    "\n",
    "print(np.log10(gpp[\"Global plastics production (million tonnes)\"].min()))\n",
    "print(np.log10(gpp[\"Global plastics production (million tonnes)\"].max()))\n",
    "print(np.log10(gpp[\"Global plastics production (million tonnes)\"].mean()))"
   ]
  },
  {
   "cell_type": "markdown",
   "id": "473e2035",
   "metadata": {},
   "source": [
    "Alternative way to answear Q1 and Q2: "
   ]
  },
  {
   "cell_type": "code",
   "execution_count": 5,
   "id": "a3fb0549",
   "metadata": {},
   "outputs": [
    {
     "name": "stdout",
     "output_type": "stream",
     "text": [
      "GGP min is 2000000\n",
      "GGP max is 381000000\n",
      "GGP mean is 118530303.03030303\n"
     ]
    }
   ],
   "source": [
    "# Q1, alternative way\n",
    "\n",
    "ggp_min  = gpp[\"Global plastics production (million tonnes)\"].min()\n",
    "ggp_max  = gpp[\"Global plastics production (million tonnes)\"].max()\n",
    "ggp_mean = gpp[\"Global plastics production (million tonnes)\"].mean()\n",
    "\n",
    "print(\"GGP min is\", ggp_min)\n",
    "print(\"GGP max is\", ggp_max)\n",
    "print(\"GGP mean is\", ggp_mean)"
   ]
  },
  {
   "cell_type": "code",
   "execution_count": 6,
   "id": "4180f7e2",
   "metadata": {},
   "outputs": [
    {
     "name": "stdout",
     "output_type": "stream",
     "text": [
      "The Log10 of GGP min is 6.301029995663981\n",
      "The Log10 of GGP max is 8.58092497567562\n",
      "The Log10 of GGP mean is 8.073829394704156\n"
     ]
    }
   ],
   "source": [
    "# Q2, alternative way\n",
    "\n",
    "log10_ggp_min  = np.log10(ggp_min)\n",
    "log10_ggp_max  = np.log10(ggp_max)\n",
    "log10_ggp_mean = np.log10(ggp_mean)\n",
    "\n",
    "print(\"The Log10 of GGP min is\", log10_ggp_min)\n",
    "print(\"The Log10 of GGP max is\", log10_ggp_max)\n",
    "print(\"The Log10 of GGP mean is\", log10_ggp_mean)"
   ]
  },
  {
   "cell_type": "markdown",
   "id": "51c0fae9",
   "metadata": {},
   "source": [
    "---\n",
    "Step 2: Extract variables and use shorter simpler names\n",
    "---\n",
    "\n",
    "1. Change the last column title from *Global plastics production (million tonnes)* to, for example, *GPP (million tonnes)*\n",
    "\n",
    "2. Also, create a time trend based on year (for easier modelling) as it is the passage of time rather than the actual calendar year that we are interested in. t is also smaller than calendar year."
   ]
  },
  {
   "cell_type": "code",
   "execution_count": 7,
   "id": "662b7930",
   "metadata": {},
   "outputs": [
    {
     "data": {
      "text/html": [
       "<div>\n",
       "<style scoped>\n",
       "    .dataframe tbody tr th:only-of-type {\n",
       "        vertical-align: middle;\n",
       "    }\n",
       "\n",
       "    .dataframe tbody tr th {\n",
       "        vertical-align: top;\n",
       "    }\n",
       "\n",
       "    .dataframe thead th {\n",
       "        text-align: right;\n",
       "    }\n",
       "</style>\n",
       "<table border=\"1\" class=\"dataframe\">\n",
       "  <thead>\n",
       "    <tr style=\"text-align: right;\">\n",
       "      <th></th>\n",
       "      <th>Entity</th>\n",
       "      <th>Code</th>\n",
       "      <th>Year</th>\n",
       "      <th>GPP (million tonnes)</th>\n",
       "    </tr>\n",
       "  </thead>\n",
       "  <tbody>\n",
       "    <tr>\n",
       "      <th>0</th>\n",
       "      <td>World</td>\n",
       "      <td>OWID_WRL</td>\n",
       "      <td>1950</td>\n",
       "      <td>2000000</td>\n",
       "    </tr>\n",
       "    <tr>\n",
       "      <th>1</th>\n",
       "      <td>World</td>\n",
       "      <td>OWID_WRL</td>\n",
       "      <td>1951</td>\n",
       "      <td>2000000</td>\n",
       "    </tr>\n",
       "    <tr>\n",
       "      <th>2</th>\n",
       "      <td>World</td>\n",
       "      <td>OWID_WRL</td>\n",
       "      <td>1952</td>\n",
       "      <td>2000000</td>\n",
       "    </tr>\n",
       "    <tr>\n",
       "      <th>3</th>\n",
       "      <td>World</td>\n",
       "      <td>OWID_WRL</td>\n",
       "      <td>1953</td>\n",
       "      <td>3000000</td>\n",
       "    </tr>\n",
       "    <tr>\n",
       "      <th>4</th>\n",
       "      <td>World</td>\n",
       "      <td>OWID_WRL</td>\n",
       "      <td>1954</td>\n",
       "      <td>3000000</td>\n",
       "    </tr>\n",
       "    <tr>\n",
       "      <th>...</th>\n",
       "      <td>...</td>\n",
       "      <td>...</td>\n",
       "      <td>...</td>\n",
       "      <td>...</td>\n",
       "    </tr>\n",
       "    <tr>\n",
       "      <th>61</th>\n",
       "      <td>World</td>\n",
       "      <td>OWID_WRL</td>\n",
       "      <td>2011</td>\n",
       "      <td>325000000</td>\n",
       "    </tr>\n",
       "    <tr>\n",
       "      <th>62</th>\n",
       "      <td>World</td>\n",
       "      <td>OWID_WRL</td>\n",
       "      <td>2012</td>\n",
       "      <td>338000000</td>\n",
       "    </tr>\n",
       "    <tr>\n",
       "      <th>63</th>\n",
       "      <td>World</td>\n",
       "      <td>OWID_WRL</td>\n",
       "      <td>2013</td>\n",
       "      <td>352000000</td>\n",
       "    </tr>\n",
       "    <tr>\n",
       "      <th>64</th>\n",
       "      <td>World</td>\n",
       "      <td>OWID_WRL</td>\n",
       "      <td>2014</td>\n",
       "      <td>367000000</td>\n",
       "    </tr>\n",
       "    <tr>\n",
       "      <th>65</th>\n",
       "      <td>World</td>\n",
       "      <td>OWID_WRL</td>\n",
       "      <td>2015</td>\n",
       "      <td>381000000</td>\n",
       "    </tr>\n",
       "  </tbody>\n",
       "</table>\n",
       "<p>66 rows × 4 columns</p>\n",
       "</div>"
      ],
      "text/plain": [
       "   Entity      Code  Year  GPP (million tonnes)\n",
       "0   World  OWID_WRL  1950               2000000\n",
       "1   World  OWID_WRL  1951               2000000\n",
       "2   World  OWID_WRL  1952               2000000\n",
       "3   World  OWID_WRL  1953               3000000\n",
       "4   World  OWID_WRL  1954               3000000\n",
       "..    ...       ...   ...                   ...\n",
       "61  World  OWID_WRL  2011             325000000\n",
       "62  World  OWID_WRL  2012             338000000\n",
       "63  World  OWID_WRL  2013             352000000\n",
       "64  World  OWID_WRL  2014             367000000\n",
       "65  World  OWID_WRL  2015             381000000\n",
       "\n",
       "[66 rows x 4 columns]"
      ]
     },
     "execution_count": 7,
     "metadata": {},
     "output_type": "execute_result"
    }
   ],
   "source": [
    "# shorter simpler names\n",
    "gpp.rename(columns={'Global plastics production (million tonnes)':'GPP (million tonnes)'}, inplace = True)\n",
    "\n",
    "gpp"
   ]
  },
  {
   "cell_type": "code",
   "execution_count": 8,
   "id": "b44742a1",
   "metadata": {},
   "outputs": [
    {
     "data": {
      "text/html": [
       "<div>\n",
       "<style scoped>\n",
       "    .dataframe tbody tr th:only-of-type {\n",
       "        vertical-align: middle;\n",
       "    }\n",
       "\n",
       "    .dataframe tbody tr th {\n",
       "        vertical-align: top;\n",
       "    }\n",
       "\n",
       "    .dataframe thead th {\n",
       "        text-align: right;\n",
       "    }\n",
       "</style>\n",
       "<table border=\"1\" class=\"dataframe\">\n",
       "  <thead>\n",
       "    <tr style=\"text-align: right;\">\n",
       "      <th></th>\n",
       "      <th>Entity</th>\n",
       "      <th>Code</th>\n",
       "      <th>Year</th>\n",
       "      <th>GPP (million tonnes)</th>\n",
       "      <th>t</th>\n",
       "    </tr>\n",
       "  </thead>\n",
       "  <tbody>\n",
       "    <tr>\n",
       "      <th>0</th>\n",
       "      <td>World</td>\n",
       "      <td>OWID_WRL</td>\n",
       "      <td>1950</td>\n",
       "      <td>2000000</td>\n",
       "      <td>1</td>\n",
       "    </tr>\n",
       "    <tr>\n",
       "      <th>1</th>\n",
       "      <td>World</td>\n",
       "      <td>OWID_WRL</td>\n",
       "      <td>1951</td>\n",
       "      <td>2000000</td>\n",
       "      <td>2</td>\n",
       "    </tr>\n",
       "    <tr>\n",
       "      <th>2</th>\n",
       "      <td>World</td>\n",
       "      <td>OWID_WRL</td>\n",
       "      <td>1952</td>\n",
       "      <td>2000000</td>\n",
       "      <td>3</td>\n",
       "    </tr>\n",
       "    <tr>\n",
       "      <th>3</th>\n",
       "      <td>World</td>\n",
       "      <td>OWID_WRL</td>\n",
       "      <td>1953</td>\n",
       "      <td>3000000</td>\n",
       "      <td>4</td>\n",
       "    </tr>\n",
       "    <tr>\n",
       "      <th>4</th>\n",
       "      <td>World</td>\n",
       "      <td>OWID_WRL</td>\n",
       "      <td>1954</td>\n",
       "      <td>3000000</td>\n",
       "      <td>5</td>\n",
       "    </tr>\n",
       "    <tr>\n",
       "      <th>...</th>\n",
       "      <td>...</td>\n",
       "      <td>...</td>\n",
       "      <td>...</td>\n",
       "      <td>...</td>\n",
       "      <td>...</td>\n",
       "    </tr>\n",
       "    <tr>\n",
       "      <th>61</th>\n",
       "      <td>World</td>\n",
       "      <td>OWID_WRL</td>\n",
       "      <td>2011</td>\n",
       "      <td>325000000</td>\n",
       "      <td>62</td>\n",
       "    </tr>\n",
       "    <tr>\n",
       "      <th>62</th>\n",
       "      <td>World</td>\n",
       "      <td>OWID_WRL</td>\n",
       "      <td>2012</td>\n",
       "      <td>338000000</td>\n",
       "      <td>63</td>\n",
       "    </tr>\n",
       "    <tr>\n",
       "      <th>63</th>\n",
       "      <td>World</td>\n",
       "      <td>OWID_WRL</td>\n",
       "      <td>2013</td>\n",
       "      <td>352000000</td>\n",
       "      <td>64</td>\n",
       "    </tr>\n",
       "    <tr>\n",
       "      <th>64</th>\n",
       "      <td>World</td>\n",
       "      <td>OWID_WRL</td>\n",
       "      <td>2014</td>\n",
       "      <td>367000000</td>\n",
       "      <td>65</td>\n",
       "    </tr>\n",
       "    <tr>\n",
       "      <th>65</th>\n",
       "      <td>World</td>\n",
       "      <td>OWID_WRL</td>\n",
       "      <td>2015</td>\n",
       "      <td>381000000</td>\n",
       "      <td>66</td>\n",
       "    </tr>\n",
       "  </tbody>\n",
       "</table>\n",
       "<p>66 rows × 5 columns</p>\n",
       "</div>"
      ],
      "text/plain": [
       "   Entity      Code  Year  GPP (million tonnes)   t\n",
       "0   World  OWID_WRL  1950               2000000   1\n",
       "1   World  OWID_WRL  1951               2000000   2\n",
       "2   World  OWID_WRL  1952               2000000   3\n",
       "3   World  OWID_WRL  1953               3000000   4\n",
       "4   World  OWID_WRL  1954               3000000   5\n",
       "..    ...       ...   ...                   ...  ..\n",
       "61  World  OWID_WRL  2011             325000000  62\n",
       "62  World  OWID_WRL  2012             338000000  63\n",
       "63  World  OWID_WRL  2013             352000000  64\n",
       "64  World  OWID_WRL  2014             367000000  65\n",
       "65  World  OWID_WRL  2015             381000000  66\n",
       "\n",
       "[66 rows x 5 columns]"
      ]
     },
     "execution_count": 8,
     "metadata": {},
     "output_type": "execute_result"
    }
   ],
   "source": [
    "# create a time trend based on year \n",
    "\n",
    "gpp[\"t\"] = gpp[\"Year\"] - 1949\n",
    "\n",
    "gpp"
   ]
  },
  {
   "cell_type": "markdown",
   "id": "7f747303",
   "metadata": {},
   "source": [
    "---\n",
    "Step 3: Visualise data\n",
    "---\n",
    "\n",
    "\n",
    "* Plot the GGP as function of year and the new variable \"t\". "
   ]
  },
  {
   "cell_type": "code",
   "execution_count": 9,
   "id": "5bc3c19d",
   "metadata": {},
   "outputs": [
    {
     "data": {
      "image/png": "[encoded data removed]",
      "text/plain": [
       "<Figure size 432x288 with 1 Axes>"
      ]
     },
     "metadata": {
      "needs_background": "light"
     },
     "output_type": "display_data"
    }
   ],
   "source": [
    "# Plotting data\n",
    "\n",
    "gpp.plot(x=\"Year\", y=\"GPP (million tonnes)\", \n",
    "         title=\"Global plastics production\",\n",
    "         color=\"orange\");"
   ]
  },
  {
   "cell_type": "code",
   "execution_count": 10,
   "id": "4f8c1a6b",
   "metadata": {},
   "outputs": [
    {
     "data": {
      "image/png": "[encoded data removed]",
      "text/plain": [
       "<Figure size 432x288 with 1 Axes>"
      ]
     },
     "metadata": {
      "needs_background": "light"
     },
     "output_type": "display_data"
    }
   ],
   "source": [
    "# Plotting data\n",
    "\n",
    "gpp.plot(x=\"t\", y=\"GPP (million tonnes)\", \n",
    "         title=\"Global plastics production\",\n",
    "         color=\"orange\");"
   ]
  },
  {
   "cell_type": "markdown",
   "id": "deb92da7",
   "metadata": {},
   "source": [
    "---\n",
    "Step 4: Explore effect of scaling and transformation (logs)\n",
    "---\n",
    "\n",
    "1. Effects of scaling:  \n",
    "    1. Add a column expressing the plastic production in trillion tonnes.\n",
    "    2. Plot the result and add a horizontal line at the mean value."
   ]
  },
  {
   "cell_type": "code",
   "execution_count": 19,
   "id": "ee1c9884",
   "metadata": {},
   "outputs": [
    {
     "data": {
      "text/html": [
       "<div>\n",
       "<style scoped>\n",
       "    .dataframe tbody tr th:only-of-type {\n",
       "        vertical-align: middle;\n",
       "    }\n",
       "\n",
       "    .dataframe tbody tr th {\n",
       "        vertical-align: top;\n",
       "    }\n",
       "\n",
       "    .dataframe thead th {\n",
       "        text-align: right;\n",
       "    }\n",
       "</style>\n",
       "<table border=\"1\" class=\"dataframe\">\n",
       "  <thead>\n",
       "    <tr style=\"text-align: right;\">\n",
       "      <th></th>\n",
       "      <th>Entity</th>\n",
       "      <th>Code</th>\n",
       "      <th>Year</th>\n",
       "      <th>GPP (million tonnes)</th>\n",
       "      <th>t</th>\n",
       "      <th>GPP (trillion tonnes)</th>\n",
       "    </tr>\n",
       "  </thead>\n",
       "  <tbody>\n",
       "    <tr>\n",
       "      <th>0</th>\n",
       "      <td>World</td>\n",
       "      <td>OWID_WRL</td>\n",
       "      <td>1950</td>\n",
       "      <td>2000000</td>\n",
       "      <td>1</td>\n",
       "      <td>2.0</td>\n",
       "    </tr>\n",
       "    <tr>\n",
       "      <th>1</th>\n",
       "      <td>World</td>\n",
       "      <td>OWID_WRL</td>\n",
       "      <td>1951</td>\n",
       "      <td>2000000</td>\n",
       "      <td>2</td>\n",
       "      <td>2.0</td>\n",
       "    </tr>\n",
       "    <tr>\n",
       "      <th>2</th>\n",
       "      <td>World</td>\n",
       "      <td>OWID_WRL</td>\n",
       "      <td>1952</td>\n",
       "      <td>2000000</td>\n",
       "      <td>3</td>\n",
       "      <td>2.0</td>\n",
       "    </tr>\n",
       "    <tr>\n",
       "      <th>3</th>\n",
       "      <td>World</td>\n",
       "      <td>OWID_WRL</td>\n",
       "      <td>1953</td>\n",
       "      <td>3000000</td>\n",
       "      <td>4</td>\n",
       "      <td>3.0</td>\n",
       "    </tr>\n",
       "    <tr>\n",
       "      <th>4</th>\n",
       "      <td>World</td>\n",
       "      <td>OWID_WRL</td>\n",
       "      <td>1954</td>\n",
       "      <td>3000000</td>\n",
       "      <td>5</td>\n",
       "      <td>3.0</td>\n",
       "    </tr>\n",
       "    <tr>\n",
       "      <th>...</th>\n",
       "      <td>...</td>\n",
       "      <td>...</td>\n",
       "      <td>...</td>\n",
       "      <td>...</td>\n",
       "      <td>...</td>\n",
       "      <td>...</td>\n",
       "    </tr>\n",
       "    <tr>\n",
       "      <th>61</th>\n",
       "      <td>World</td>\n",
       "      <td>OWID_WRL</td>\n",
       "      <td>2011</td>\n",
       "      <td>325000000</td>\n",
       "      <td>62</td>\n",
       "      <td>325.0</td>\n",
       "    </tr>\n",
       "    <tr>\n",
       "      <th>62</th>\n",
       "      <td>World</td>\n",
       "      <td>OWID_WRL</td>\n",
       "      <td>2012</td>\n",
       "      <td>338000000</td>\n",
       "      <td>63</td>\n",
       "      <td>338.0</td>\n",
       "    </tr>\n",
       "    <tr>\n",
       "      <th>63</th>\n",
       "      <td>World</td>\n",
       "      <td>OWID_WRL</td>\n",
       "      <td>2013</td>\n",
       "      <td>352000000</td>\n",
       "      <td>64</td>\n",
       "      <td>352.0</td>\n",
       "    </tr>\n",
       "    <tr>\n",
       "      <th>64</th>\n",
       "      <td>World</td>\n",
       "      <td>OWID_WRL</td>\n",
       "      <td>2014</td>\n",
       "      <td>367000000</td>\n",
       "      <td>65</td>\n",
       "      <td>367.0</td>\n",
       "    </tr>\n",
       "    <tr>\n",
       "      <th>65</th>\n",
       "      <td>World</td>\n",
       "      <td>OWID_WRL</td>\n",
       "      <td>2015</td>\n",
       "      <td>381000000</td>\n",
       "      <td>66</td>\n",
       "      <td>381.0</td>\n",
       "    </tr>\n",
       "  </tbody>\n",
       "</table>\n",
       "<p>66 rows × 6 columns</p>\n",
       "</div>"
      ],
      "text/plain": [
       "   Entity      Code  Year  GPP (million tonnes)   t  GPP (trillion tonnes)\n",
       "0   World  OWID_WRL  1950               2000000   1                    2.0\n",
       "1   World  OWID_WRL  1951               2000000   2                    2.0\n",
       "2   World  OWID_WRL  1952               2000000   3                    2.0\n",
       "3   World  OWID_WRL  1953               3000000   4                    3.0\n",
       "4   World  OWID_WRL  1954               3000000   5                    3.0\n",
       "..    ...       ...   ...                   ...  ..                    ...\n",
       "61  World  OWID_WRL  2011             325000000  62                  325.0\n",
       "62  World  OWID_WRL  2012             338000000  63                  338.0\n",
       "63  World  OWID_WRL  2013             352000000  64                  352.0\n",
       "64  World  OWID_WRL  2014             367000000  65                  367.0\n",
       "65  World  OWID_WRL  2015             381000000  66                  381.0\n",
       "\n",
       "[66 rows x 6 columns]"
      ]
     },
     "execution_count": 19,
     "metadata": {},
     "output_type": "execute_result"
    }
   ],
   "source": [
    "# Add a column expressing the plastic production in trillion tonnes\n",
    "\n",
    "gpp[\"GPP (trillion tonnes)\"] = gpp[\"GPP (million tonnes)\"]/1000000\n",
    "\n",
    "gpp"
   ]
  },
  {
   "cell_type": "code",
   "execution_count": 20,
   "id": "196e6d69",
   "metadata": {},
   "outputs": [
    {
     "data": {
      "image/png": "[encoded data removed]",
      "text/plain": [
       "<Figure size 432x288 with 1 Axes>"
      ]
     },
     "metadata": {
      "needs_background": "light"
     },
     "output_type": "display_data"
    }
   ],
   "source": [
    "# Plot the result and add a horizontal line at the mean value.\n",
    "\n",
    "ax = gpp.plot(x=\"Year\", y=\"GPP (trillion tonnes)\", title=\"Global plastics production\", \n",
    "         color=\"blue\");\n",
    "\n",
    "ax.axhline(y=gpp[\"GPP (trillion tonnes)\"].mean(), ls=\"--\", color=\"gray\");"
   ]
  },
  {
   "cell_type": "markdown",
   "id": "b569df92",
   "metadata": {},
   "source": [
    "**Question**\n",
    "* Why do think we need to scale data?"
   ]
  },
  {
   "cell_type": "markdown",
   "id": "a9d8ff5e",
   "metadata": {},
   "source": [
    "2. Effects of transformation (logs):  \n",
    "    1. Plot using a log scale for the y-axis\n",
    "    2. Add a column expressing the log of the plastic production in million tonnes.\n",
    "    2. Plot the logarithmic values, from item B, and compare with the log scale plot of item A.\n",
    "    \n",
    "Let’s now use a log scale for the y-axis, where equal distances (50 to 100, and 100 to 200) represent\n",
    "a doubling of the value, rather than the addition of the same amount."
   ]
  },
  {
   "cell_type": "code",
   "execution_count": 21,
   "id": "8600d8e6",
   "metadata": {
    "scrolled": true
   },
   "outputs": [
    {
     "data": {
      "image/png": "[encoded data removed]",
      "text/plain": [
       "<Figure size 432x288 with 1 Axes>"
      ]
     },
     "metadata": {
      "needs_background": "light"
     },
     "output_type": "display_data"
    }
   ],
   "source": [
    "# Plot using a log scale for the y-axis\n",
    "\n",
    "gpp.plot(x=\"Year\", y=\"GPP (trillion tonnes)\", title=\"Global plastics production\", \n",
    "         color=\"blue\", lw=4, \n",
    "         logy=True, ylabel=\"Trillion tonnes \\n (log scale)\");"
   ]
  },
  {
   "cell_type": "code",
   "execution_count": 22,
   "id": "16730183",
   "metadata": {},
   "outputs": [
    {
     "data": {
      "image/png": "[encoded data removed]",
      "text/plain": [
       "<Figure size 432x288 with 1 Axes>"
      ]
     },
     "metadata": {
      "needs_background": "light"
     },
     "output_type": "display_data"
    }
   ],
   "source": [
    "# plotting | alternative way with simplified yticks\n",
    "\n",
    "gpp.plot(x=\"Year\", y=\"GPP (trillion tonnes)\", title=\"Global plastics production\", \n",
    "         color=\"blue\", lw=4, \n",
    "         logy=\"sym\", ylabel=\"Trillion tonnes \\n (log scale)\");"
   ]
  },
  {
   "cell_type": "markdown",
   "id": "5c7e0d22",
   "metadata": {},
   "source": [
    "Let’s create logged value for the production data."
   ]
  },
  {
   "cell_type": "code",
   "execution_count": 23,
   "id": "ca8f154e",
   "metadata": {},
   "outputs": [
    {
     "data": {
      "text/html": [
       "<div>\n",
       "<style scoped>\n",
       "    .dataframe tbody tr th:only-of-type {\n",
       "        vertical-align: middle;\n",
       "    }\n",
       "\n",
       "    .dataframe tbody tr th {\n",
       "        vertical-align: top;\n",
       "    }\n",
       "\n",
       "    .dataframe thead th {\n",
       "        text-align: right;\n",
       "    }\n",
       "</style>\n",
       "<table border=\"1\" class=\"dataframe\">\n",
       "  <thead>\n",
       "    <tr style=\"text-align: right;\">\n",
       "      <th></th>\n",
       "      <th>Entity</th>\n",
       "      <th>Code</th>\n",
       "      <th>Year</th>\n",
       "      <th>GPP (million tonnes)</th>\n",
       "      <th>t</th>\n",
       "      <th>GPP (trillion tonnes)</th>\n",
       "      <th>GPP (million tonnes, log)</th>\n",
       "    </tr>\n",
       "  </thead>\n",
       "  <tbody>\n",
       "    <tr>\n",
       "      <th>0</th>\n",
       "      <td>World</td>\n",
       "      <td>OWID_WRL</td>\n",
       "      <td>1950</td>\n",
       "      <td>2000000</td>\n",
       "      <td>1</td>\n",
       "      <td>2.0</td>\n",
       "      <td>14.508658</td>\n",
       "    </tr>\n",
       "    <tr>\n",
       "      <th>1</th>\n",
       "      <td>World</td>\n",
       "      <td>OWID_WRL</td>\n",
       "      <td>1951</td>\n",
       "      <td>2000000</td>\n",
       "      <td>2</td>\n",
       "      <td>2.0</td>\n",
       "      <td>14.508658</td>\n",
       "    </tr>\n",
       "    <tr>\n",
       "      <th>2</th>\n",
       "      <td>World</td>\n",
       "      <td>OWID_WRL</td>\n",
       "      <td>1952</td>\n",
       "      <td>2000000</td>\n",
       "      <td>3</td>\n",
       "      <td>2.0</td>\n",
       "      <td>14.508658</td>\n",
       "    </tr>\n",
       "    <tr>\n",
       "      <th>3</th>\n",
       "      <td>World</td>\n",
       "      <td>OWID_WRL</td>\n",
       "      <td>1953</td>\n",
       "      <td>3000000</td>\n",
       "      <td>4</td>\n",
       "      <td>3.0</td>\n",
       "      <td>14.914123</td>\n",
       "    </tr>\n",
       "    <tr>\n",
       "      <th>4</th>\n",
       "      <td>World</td>\n",
       "      <td>OWID_WRL</td>\n",
       "      <td>1954</td>\n",
       "      <td>3000000</td>\n",
       "      <td>5</td>\n",
       "      <td>3.0</td>\n",
       "      <td>14.914123</td>\n",
       "    </tr>\n",
       "    <tr>\n",
       "      <th>...</th>\n",
       "      <td>...</td>\n",
       "      <td>...</td>\n",
       "      <td>...</td>\n",
       "      <td>...</td>\n",
       "      <td>...</td>\n",
       "      <td>...</td>\n",
       "      <td>...</td>\n",
       "    </tr>\n",
       "    <tr>\n",
       "      <th>61</th>\n",
       "      <td>World</td>\n",
       "      <td>OWID_WRL</td>\n",
       "      <td>2011</td>\n",
       "      <td>325000000</td>\n",
       "      <td>62</td>\n",
       "      <td>325.0</td>\n",
       "      <td>19.599336</td>\n",
       "    </tr>\n",
       "    <tr>\n",
       "      <th>62</th>\n",
       "      <td>World</td>\n",
       "      <td>OWID_WRL</td>\n",
       "      <td>2012</td>\n",
       "      <td>338000000</td>\n",
       "      <td>63</td>\n",
       "      <td>338.0</td>\n",
       "      <td>19.638556</td>\n",
       "    </tr>\n",
       "    <tr>\n",
       "      <th>63</th>\n",
       "      <td>World</td>\n",
       "      <td>OWID_WRL</td>\n",
       "      <td>2013</td>\n",
       "      <td>352000000</td>\n",
       "      <td>64</td>\n",
       "      <td>352.0</td>\n",
       "      <td>19.679142</td>\n",
       "    </tr>\n",
       "    <tr>\n",
       "      <th>64</th>\n",
       "      <td>World</td>\n",
       "      <td>OWID_WRL</td>\n",
       "      <td>2014</td>\n",
       "      <td>367000000</td>\n",
       "      <td>65</td>\n",
       "      <td>367.0</td>\n",
       "      <td>19.720872</td>\n",
       "    </tr>\n",
       "    <tr>\n",
       "      <th>65</th>\n",
       "      <td>World</td>\n",
       "      <td>OWID_WRL</td>\n",
       "      <td>2015</td>\n",
       "      <td>381000000</td>\n",
       "      <td>66</td>\n",
       "      <td>381.0</td>\n",
       "      <td>19.758310</td>\n",
       "    </tr>\n",
       "  </tbody>\n",
       "</table>\n",
       "<p>66 rows × 7 columns</p>\n",
       "</div>"
      ],
      "text/plain": [
       "   Entity      Code  Year  GPP (million tonnes)   t  GPP (trillion tonnes)  \\\n",
       "0   World  OWID_WRL  1950               2000000   1                    2.0   \n",
       "1   World  OWID_WRL  1951               2000000   2                    2.0   \n",
       "2   World  OWID_WRL  1952               2000000   3                    2.0   \n",
       "3   World  OWID_WRL  1953               3000000   4                    3.0   \n",
       "4   World  OWID_WRL  1954               3000000   5                    3.0   \n",
       "..    ...       ...   ...                   ...  ..                    ...   \n",
       "61  World  OWID_WRL  2011             325000000  62                  325.0   \n",
       "62  World  OWID_WRL  2012             338000000  63                  338.0   \n",
       "63  World  OWID_WRL  2013             352000000  64                  352.0   \n",
       "64  World  OWID_WRL  2014             367000000  65                  367.0   \n",
       "65  World  OWID_WRL  2015             381000000  66                  381.0   \n",
       "\n",
       "    GPP (million tonnes, log)  \n",
       "0                   14.508658  \n",
       "1                   14.508658  \n",
       "2                   14.508658  \n",
       "3                   14.914123  \n",
       "4                   14.914123  \n",
       "..                        ...  \n",
       "61                  19.599336  \n",
       "62                  19.638556  \n",
       "63                  19.679142  \n",
       "64                  19.720872  \n",
       "65                  19.758310  \n",
       "\n",
       "[66 rows x 7 columns]"
      ]
     },
     "execution_count": 23,
     "metadata": {},
     "output_type": "execute_result"
    }
   ],
   "source": [
    "# Add a column expressing the log of the plastic production in million tonnes.\n",
    "\n",
    "gpp[\"GPP (million tonnes, log)\"] = np.log(gpp[\"GPP (million tonnes)\"])\n",
    "\n",
    "gpp"
   ]
  },
  {
   "cell_type": "markdown",
   "id": "41415c5c",
   "metadata": {},
   "source": [
    "Now, we have two options:\n",
    "\n",
    "1. We could plot the raw data (million tonnes) and use a log scale on the y-axis.\n",
    "2. Or we could actually plot the logged value of the data: **GPP (million tonnes, log)**. \n",
    "\n",
    "**Compare the effects of using log scale in plotting against transforming the data (using logs) and then plotting the transformed data.**"
   ]
  },
  {
   "cell_type": "code",
   "execution_count": 24,
   "id": "b4c553a8",
   "metadata": {},
   "outputs": [
    {
     "data": {
      "image/png": "[encoded data removed]",
      "text/plain": [
       "<Figure size 432x288 with 1 Axes>"
      ]
     },
     "metadata": {
      "needs_background": "light"
     },
     "output_type": "display_data"
    }
   ],
   "source": [
    "# plot the raw data (million tonnes) and use a log scale on the y-axis\n",
    "\n",
    "gpp.plot(x=\"Year\", y=\"GPP (million tonnes)\", title=\"Global plastics production \",\n",
    "        logy=True, ylabel=\"million tonnes \\n (log scale)\");"
   ]
  },
  {
   "cell_type": "code",
   "execution_count": 25,
   "id": "5435d600",
   "metadata": {},
   "outputs": [
    {
     "data": {
      "image/png": "[encoded data removed]",
      "text/plain": [
       "<Figure size 432x288 with 1 Axes>"
      ]
     },
     "metadata": {
      "needs_background": "light"
     },
     "output_type": "display_data"
    }
   ],
   "source": [
    "# plot the logged value of the data: GPP (million tonnes, log)\n",
    "\n",
    "gpp.plot(x=\"Year\", y=\"GPP (million tonnes, log)\", title=\"Global plastics production\", \n",
    "         color=\"red\", ylabel=\"million tonnes \\n (log value)\");"
   ]
  },
  {
   "cell_type": "markdown",
   "id": "e3f30bb4",
   "metadata": {},
   "source": [
    "Comparision is easier if we plot side by side!"
   ]
  },
  {
   "cell_type": "code",
   "execution_count": 26,
   "id": "b264ae89",
   "metadata": {},
   "outputs": [
    {
     "data": {
      "image/png": "[encoded data removed]",
      "text/plain": [
       "<Figure size 792x288 with 2 Axes>"
      ]
     },
     "metadata": {
      "needs_background": "light"
     },
     "output_type": "display_data"
    }
   ],
   "source": [
    "fig, axes = plt.subplots(1,2, figsize=(11,4), constrained_layout=True)\n",
    "\n",
    "# Log scale subplot\n",
    "gpp.plot(x=\"Year\", y=\"GPP (million tonnes)\", title=\"Global plastics production \\n Log scale\",\n",
    "        logy=True, ylabel=\"million tonnes \\n (log scale)\", ax=axes[0]);\n",
    "\n",
    "axes[0].axhline(y=gpp[\"GPP (million tonnes)\"].mean(), ls=\"--\", color=\"gray\");\n",
    "\n",
    "\n",
    "# Log values subplot\n",
    "gpp.plot(x=\"Year\", y=\"GPP (million tonnes, log)\", title=\"Global plastics production \\n Log values\", \n",
    "         color=\"red\", ylabel=\"million tonnes \\n (log value)\", ax=axes[1]);\n",
    "\n",
    "axes[1].axhline(y=np.log(gpp[\"GPP (million tonnes)\"].mean()), ls=\"--\", color=\"gray\");"
   ]
  },
  {
   "cell_type": "markdown",
   "id": "fb8cb663",
   "metadata": {},
   "source": [
    "---\n",
    "Step 5: What is the story about the growth rates in plastic production?\n",
    "---\n",
    "\n",
    "1. Calculate the growth rates in plastic production for each of the years between 1951 and 2015 (inclusive)? \n",
    "\n",
    "2. Summarise the growth rates: determine minimum, maximum, median and mean growth rates? \n",
    "\n",
    "3. Write down your observations about the growth rates."
   ]
  },
  {
   "cell_type": "code",
   "execution_count": 27,
   "id": "95c1e34f",
   "metadata": {},
   "outputs": [
    {
     "data": {
      "text/html": [
       "<div>\n",
       "<style scoped>\n",
       "    .dataframe tbody tr th:only-of-type {\n",
       "        vertical-align: middle;\n",
       "    }\n",
       "\n",
       "    .dataframe tbody tr th {\n",
       "        vertical-align: top;\n",
       "    }\n",
       "\n",
       "    .dataframe thead th {\n",
       "        text-align: right;\n",
       "    }\n",
       "</style>\n",
       "<table border=\"1\" class=\"dataframe\">\n",
       "  <thead>\n",
       "    <tr style=\"text-align: right;\">\n",
       "      <th></th>\n",
       "      <th>Entity</th>\n",
       "      <th>Code</th>\n",
       "      <th>Year</th>\n",
       "      <th>GPP (million tonnes)</th>\n",
       "      <th>t</th>\n",
       "      <th>GPP (trillion tonnes)</th>\n",
       "      <th>GPP (million tonnes, log)</th>\n",
       "      <th>grouth rate</th>\n",
       "    </tr>\n",
       "  </thead>\n",
       "  <tbody>\n",
       "    <tr>\n",
       "      <th>0</th>\n",
       "      <td>World</td>\n",
       "      <td>OWID_WRL</td>\n",
       "      <td>1950</td>\n",
       "      <td>2000000</td>\n",
       "      <td>1</td>\n",
       "      <td>2.0</td>\n",
       "      <td>14.508658</td>\n",
       "      <td>NaN</td>\n",
       "    </tr>\n",
       "    <tr>\n",
       "      <th>1</th>\n",
       "      <td>World</td>\n",
       "      <td>OWID_WRL</td>\n",
       "      <td>1951</td>\n",
       "      <td>2000000</td>\n",
       "      <td>2</td>\n",
       "      <td>2.0</td>\n",
       "      <td>14.508658</td>\n",
       "      <td>0.0</td>\n",
       "    </tr>\n",
       "    <tr>\n",
       "      <th>2</th>\n",
       "      <td>World</td>\n",
       "      <td>OWID_WRL</td>\n",
       "      <td>1952</td>\n",
       "      <td>2000000</td>\n",
       "      <td>3</td>\n",
       "      <td>2.0</td>\n",
       "      <td>14.508658</td>\n",
       "      <td>0.0</td>\n",
       "    </tr>\n",
       "    <tr>\n",
       "      <th>3</th>\n",
       "      <td>World</td>\n",
       "      <td>OWID_WRL</td>\n",
       "      <td>1953</td>\n",
       "      <td>3000000</td>\n",
       "      <td>4</td>\n",
       "      <td>3.0</td>\n",
       "      <td>14.914123</td>\n",
       "      <td>1.0</td>\n",
       "    </tr>\n",
       "    <tr>\n",
       "      <th>4</th>\n",
       "      <td>World</td>\n",
       "      <td>OWID_WRL</td>\n",
       "      <td>1954</td>\n",
       "      <td>3000000</td>\n",
       "      <td>5</td>\n",
       "      <td>3.0</td>\n",
       "      <td>14.914123</td>\n",
       "      <td>0.0</td>\n",
       "    </tr>\n",
       "    <tr>\n",
       "      <th>...</th>\n",
       "      <td>...</td>\n",
       "      <td>...</td>\n",
       "      <td>...</td>\n",
       "      <td>...</td>\n",
       "      <td>...</td>\n",
       "      <td>...</td>\n",
       "      <td>...</td>\n",
       "      <td>...</td>\n",
       "    </tr>\n",
       "    <tr>\n",
       "      <th>61</th>\n",
       "      <td>World</td>\n",
       "      <td>OWID_WRL</td>\n",
       "      <td>2011</td>\n",
       "      <td>325000000</td>\n",
       "      <td>62</td>\n",
       "      <td>325.0</td>\n",
       "      <td>19.599336</td>\n",
       "      <td>12.0</td>\n",
       "    </tr>\n",
       "    <tr>\n",
       "      <th>62</th>\n",
       "      <td>World</td>\n",
       "      <td>OWID_WRL</td>\n",
       "      <td>2012</td>\n",
       "      <td>338000000</td>\n",
       "      <td>63</td>\n",
       "      <td>338.0</td>\n",
       "      <td>19.638556</td>\n",
       "      <td>13.0</td>\n",
       "    </tr>\n",
       "    <tr>\n",
       "      <th>63</th>\n",
       "      <td>World</td>\n",
       "      <td>OWID_WRL</td>\n",
       "      <td>2013</td>\n",
       "      <td>352000000</td>\n",
       "      <td>64</td>\n",
       "      <td>352.0</td>\n",
       "      <td>19.679142</td>\n",
       "      <td>14.0</td>\n",
       "    </tr>\n",
       "    <tr>\n",
       "      <th>64</th>\n",
       "      <td>World</td>\n",
       "      <td>OWID_WRL</td>\n",
       "      <td>2014</td>\n",
       "      <td>367000000</td>\n",
       "      <td>65</td>\n",
       "      <td>367.0</td>\n",
       "      <td>19.720872</td>\n",
       "      <td>15.0</td>\n",
       "    </tr>\n",
       "    <tr>\n",
       "      <th>65</th>\n",
       "      <td>World</td>\n",
       "      <td>OWID_WRL</td>\n",
       "      <td>2015</td>\n",
       "      <td>381000000</td>\n",
       "      <td>66</td>\n",
       "      <td>381.0</td>\n",
       "      <td>19.758310</td>\n",
       "      <td>14.0</td>\n",
       "    </tr>\n",
       "  </tbody>\n",
       "</table>\n",
       "<p>66 rows × 8 columns</p>\n",
       "</div>"
      ],
      "text/plain": [
       "   Entity      Code  Year  GPP (million tonnes)   t  GPP (trillion tonnes)  \\\n",
       "0   World  OWID_WRL  1950               2000000   1                    2.0   \n",
       "1   World  OWID_WRL  1951               2000000   2                    2.0   \n",
       "2   World  OWID_WRL  1952               2000000   3                    2.0   \n",
       "3   World  OWID_WRL  1953               3000000   4                    3.0   \n",
       "4   World  OWID_WRL  1954               3000000   5                    3.0   \n",
       "..    ...       ...   ...                   ...  ..                    ...   \n",
       "61  World  OWID_WRL  2011             325000000  62                  325.0   \n",
       "62  World  OWID_WRL  2012             338000000  63                  338.0   \n",
       "63  World  OWID_WRL  2013             352000000  64                  352.0   \n",
       "64  World  OWID_WRL  2014             367000000  65                  367.0   \n",
       "65  World  OWID_WRL  2015             381000000  66                  381.0   \n",
       "\n",
       "    GPP (million tonnes, log)  grouth rate  \n",
       "0                   14.508658          NaN  \n",
       "1                   14.508658          0.0  \n",
       "2                   14.508658          0.0  \n",
       "3                   14.914123          1.0  \n",
       "4                   14.914123          0.0  \n",
       "..                        ...          ...  \n",
       "61                  19.599336         12.0  \n",
       "62                  19.638556         13.0  \n",
       "63                  19.679142         14.0  \n",
       "64                  19.720872         15.0  \n",
       "65                  19.758310         14.0  \n",
       "\n",
       "[66 rows x 8 columns]"
      ]
     },
     "execution_count": 27,
     "metadata": {},
     "output_type": "execute_result"
    }
   ],
   "source": [
    "# 1. Calculate the growth rates in plastic production for each of \n",
    "#    the years between 1951 and 2015 (inclusive)\n",
    "\n",
    "gpp[\"grouth rate\"] = gpp[\"GPP (trillion tonnes)\"].diff()\n",
    "\n",
    "gpp"
   ]
  },
  {
   "cell_type": "code",
   "execution_count": 28,
   "id": "08f651fe",
   "metadata": {},
   "outputs": [
    {
     "name": "stdout",
     "output_type": "stream",
     "text": [
      "Grouth rate (trillion tonnes/year):\n",
      "- minimum:  -14.0\n",
      "- maximum:  25.0\n",
      "- median:  5.0\n",
      "- mean:  5.8307692307692305\n"
     ]
    }
   ],
   "source": [
    "# 2. Summarise the growth rates: determine minimum, maximum,\n",
    "#    median and mean growth rates\n",
    "\n",
    "print(\"Grouth rate (trillion tonnes/year):\")\n",
    "print(\"- minimum: \", gpp[\"grouth rate\"].min())\n",
    "print(\"- maximum: \", gpp[\"grouth rate\"].max())\n",
    "print(\"- median: \", gpp[\"grouth rate\"].median())\n",
    "print(\"- mean: \", gpp[\"grouth rate\"].mean())"
   ]
  },
  {
   "cell_type": "code",
   "execution_count": null,
   "id": "78d8f340",
   "metadata": {},
   "outputs": [],
   "source": []
  },
  {
   "cell_type": "code",
   "execution_count": null,
   "id": "a165f6a8",
   "metadata": {},
   "outputs": [],
   "source": [
    "df['pdt_chg']=df[1].pct_change()"
   ]
  },
  {
   "cell_type": "code",
   "execution_count": 29,
   "id": "8ee9007f",
   "metadata": {},
   "outputs": [
    {
     "data": {
      "text/html": [
       "<div>\n",
       "<style scoped>\n",
       "    .dataframe tbody tr th:only-of-type {\n",
       "        vertical-align: middle;\n",
       "    }\n",
       "\n",
       "    .dataframe tbody tr th {\n",
       "        vertical-align: top;\n",
       "    }\n",
       "\n",
       "    .dataframe thead th {\n",
       "        text-align: right;\n",
       "    }\n",
       "</style>\n",
       "<table border=\"1\" class=\"dataframe\">\n",
       "  <thead>\n",
       "    <tr style=\"text-align: right;\">\n",
       "      <th></th>\n",
       "      <th>Entity</th>\n",
       "      <th>Code</th>\n",
       "      <th>Year</th>\n",
       "      <th>GPP (million tonnes)</th>\n",
       "      <th>t</th>\n",
       "      <th>GPP (trillion tonnes)</th>\n",
       "      <th>GPP (million tonnes, log)</th>\n",
       "      <th>grouth rate</th>\n",
       "      <th>GR percentual</th>\n",
       "    </tr>\n",
       "  </thead>\n",
       "  <tbody>\n",
       "    <tr>\n",
       "      <th>0</th>\n",
       "      <td>World</td>\n",
       "      <td>OWID_WRL</td>\n",
       "      <td>1950</td>\n",
       "      <td>2000000</td>\n",
       "      <td>1</td>\n",
       "      <td>2.0</td>\n",
       "      <td>14.508658</td>\n",
       "      <td>NaN</td>\n",
       "      <td>NaN</td>\n",
       "    </tr>\n",
       "    <tr>\n",
       "      <th>1</th>\n",
       "      <td>World</td>\n",
       "      <td>OWID_WRL</td>\n",
       "      <td>1951</td>\n",
       "      <td>2000000</td>\n",
       "      <td>2</td>\n",
       "      <td>2.0</td>\n",
       "      <td>14.508658</td>\n",
       "      <td>0.0</td>\n",
       "      <td>0.000000</td>\n",
       "    </tr>\n",
       "    <tr>\n",
       "      <th>2</th>\n",
       "      <td>World</td>\n",
       "      <td>OWID_WRL</td>\n",
       "      <td>1952</td>\n",
       "      <td>2000000</td>\n",
       "      <td>3</td>\n",
       "      <td>2.0</td>\n",
       "      <td>14.508658</td>\n",
       "      <td>0.0</td>\n",
       "      <td>0.000000</td>\n",
       "    </tr>\n",
       "    <tr>\n",
       "      <th>3</th>\n",
       "      <td>World</td>\n",
       "      <td>OWID_WRL</td>\n",
       "      <td>1953</td>\n",
       "      <td>3000000</td>\n",
       "      <td>4</td>\n",
       "      <td>3.0</td>\n",
       "      <td>14.914123</td>\n",
       "      <td>1.0</td>\n",
       "      <td>0.500000</td>\n",
       "    </tr>\n",
       "    <tr>\n",
       "      <th>4</th>\n",
       "      <td>World</td>\n",
       "      <td>OWID_WRL</td>\n",
       "      <td>1954</td>\n",
       "      <td>3000000</td>\n",
       "      <td>5</td>\n",
       "      <td>3.0</td>\n",
       "      <td>14.914123</td>\n",
       "      <td>0.0</td>\n",
       "      <td>0.000000</td>\n",
       "    </tr>\n",
       "    <tr>\n",
       "      <th>...</th>\n",
       "      <td>...</td>\n",
       "      <td>...</td>\n",
       "      <td>...</td>\n",
       "      <td>...</td>\n",
       "      <td>...</td>\n",
       "      <td>...</td>\n",
       "      <td>...</td>\n",
       "      <td>...</td>\n",
       "      <td>...</td>\n",
       "    </tr>\n",
       "    <tr>\n",
       "      <th>61</th>\n",
       "      <td>World</td>\n",
       "      <td>OWID_WRL</td>\n",
       "      <td>2011</td>\n",
       "      <td>325000000</td>\n",
       "      <td>62</td>\n",
       "      <td>325.0</td>\n",
       "      <td>19.599336</td>\n",
       "      <td>12.0</td>\n",
       "      <td>0.038339</td>\n",
       "    </tr>\n",
       "    <tr>\n",
       "      <th>62</th>\n",
       "      <td>World</td>\n",
       "      <td>OWID_WRL</td>\n",
       "      <td>2012</td>\n",
       "      <td>338000000</td>\n",
       "      <td>63</td>\n",
       "      <td>338.0</td>\n",
       "      <td>19.638556</td>\n",
       "      <td>13.0</td>\n",
       "      <td>0.040000</td>\n",
       "    </tr>\n",
       "    <tr>\n",
       "      <th>63</th>\n",
       "      <td>World</td>\n",
       "      <td>OWID_WRL</td>\n",
       "      <td>2013</td>\n",
       "      <td>352000000</td>\n",
       "      <td>64</td>\n",
       "      <td>352.0</td>\n",
       "      <td>19.679142</td>\n",
       "      <td>14.0</td>\n",
       "      <td>0.041420</td>\n",
       "    </tr>\n",
       "    <tr>\n",
       "      <th>64</th>\n",
       "      <td>World</td>\n",
       "      <td>OWID_WRL</td>\n",
       "      <td>2014</td>\n",
       "      <td>367000000</td>\n",
       "      <td>65</td>\n",
       "      <td>367.0</td>\n",
       "      <td>19.720872</td>\n",
       "      <td>15.0</td>\n",
       "      <td>0.042614</td>\n",
       "    </tr>\n",
       "    <tr>\n",
       "      <th>65</th>\n",
       "      <td>World</td>\n",
       "      <td>OWID_WRL</td>\n",
       "      <td>2015</td>\n",
       "      <td>381000000</td>\n",
       "      <td>66</td>\n",
       "      <td>381.0</td>\n",
       "      <td>19.758310</td>\n",
       "      <td>14.0</td>\n",
       "      <td>0.038147</td>\n",
       "    </tr>\n",
       "  </tbody>\n",
       "</table>\n",
       "<p>66 rows × 9 columns</p>\n",
       "</div>"
      ],
      "text/plain": [
       "   Entity      Code  Year  GPP (million tonnes)   t  GPP (trillion tonnes)  \\\n",
       "0   World  OWID_WRL  1950               2000000   1                    2.0   \n",
       "1   World  OWID_WRL  1951               2000000   2                    2.0   \n",
       "2   World  OWID_WRL  1952               2000000   3                    2.0   \n",
       "3   World  OWID_WRL  1953               3000000   4                    3.0   \n",
       "4   World  OWID_WRL  1954               3000000   5                    3.0   \n",
       "..    ...       ...   ...                   ...  ..                    ...   \n",
       "61  World  OWID_WRL  2011             325000000  62                  325.0   \n",
       "62  World  OWID_WRL  2012             338000000  63                  338.0   \n",
       "63  World  OWID_WRL  2013             352000000  64                  352.0   \n",
       "64  World  OWID_WRL  2014             367000000  65                  367.0   \n",
       "65  World  OWID_WRL  2015             381000000  66                  381.0   \n",
       "\n",
       "    GPP (million tonnes, log)  grouth rate  GR percentual  \n",
       "0                   14.508658          NaN            NaN  \n",
       "1                   14.508658          0.0       0.000000  \n",
       "2                   14.508658          0.0       0.000000  \n",
       "3                   14.914123          1.0       0.500000  \n",
       "4                   14.914123          0.0       0.000000  \n",
       "..                        ...          ...            ...  \n",
       "61                  19.599336         12.0       0.038339  \n",
       "62                  19.638556         13.0       0.040000  \n",
       "63                  19.679142         14.0       0.041420  \n",
       "64                  19.720872         15.0       0.042614  \n",
       "65                  19.758310         14.0       0.038147  \n",
       "\n",
       "[66 rows x 9 columns]"
      ]
     },
     "execution_count": 29,
     "metadata": {},
     "output_type": "execute_result"
    }
   ],
   "source": [
    "gpp[\"GR percentual\"] = gpp[\"GPP (trillion tonnes)\"].pct_change()\n",
    "\n",
    "gpp"
   ]
  },
  {
   "cell_type": "code",
   "execution_count": null,
   "id": "f3db528b",
   "metadata": {},
   "outputs": [],
   "source": []
  },
  {
   "cell_type": "markdown",
   "id": "09f758ae",
   "metadata": {},
   "source": [
    "---\n",
    "Step 6: Determine if an exponential relationship is appropriate\n",
    "---\n",
    "\n",
    "**Do the plots done so far suggest a functional form?**\n",
    "\n",
    "* What do we know about how plastic production increases over time. One thing we know for sure is that the increase in production is increasing over time (i.e, it is speeding up!). \n",
    "\n",
    "\n",
    "* Therefore, a linear relationship (such as gpp = a + b ∗ t) is not appropriate. \n",
    "\n",
    "\n",
    "* And that is clear from the plot which is closer to being exponential or a quadratic curve opening up than to a linear curve.\n",
    "\n",
    "\n",
    "**We can also assess whether an exponential relationship is appropriate by plotting the log of the gpp against time and checking if that appears linear.**\n",
    "\n",
    "* This is because if gpp grown exponentially over time (i.e. $gpp = ae^{rt}$ , where $r$ is the rate of exponential growth), then that relationship would be a linear relationship between time and the logged value of gpp. \n",
    "\n",
    "\n",
    "* Why? $gpp = ae^{rt}$ and $\\log(gpp) = a + rt$ represent the same process or relationship. \n",
    "\n",
    "\n",
    "* In other words, an explonential relationship implies that the rate of growth or proportional increase in gpp is constant over time. \n",
    " \n",
    " \n",
    "* So, let’s **check if** what we have looks like this: $\\log(gpp) = a + rt$, i.e. log(gpp) is a linear function of time:\n",
    "    * **For you: plot the grouth rate as a function of time**\n",
    "\n",
    "\n",
    "**Does your plot appear linear or very close to being linear?**"
   ]
  },
  {
   "cell_type": "code",
   "execution_count": 30,
   "id": "0a6601ca",
   "metadata": {},
   "outputs": [
    {
     "data": {
      "image/png": "[encoded data removed]",
      "text/plain": [
       "<Figure size 432x288 with 1 Axes>"
      ]
     },
     "metadata": {
      "needs_background": "light"
     },
     "output_type": "display_data"
    }
   ],
   "source": [
    "# Plotting data\n",
    "\n",
    "gpp.plot(x=\"t\", y=\"grouth rate\", ylabel='(Grouth rate (trillion tonnes/year)',\n",
    "         title=\"Growth rate in global plastics production\",\n",
    "         color=\"green\");"
   ]
  },
  {
   "cell_type": "code",
   "execution_count": 32,
   "id": "27eba8c8",
   "metadata": {},
   "outputs": [
    {
     "data": {
      "image/png": "[encoded data removed]",
      "text/plain": [
       "<Figure size 432x288 with 1 Axes>"
      ]
     },
     "metadata": {
      "needs_background": "light"
     },
     "output_type": "display_data"
    }
   ],
   "source": [
    "# Percentual growth rate:\n",
    "\n",
    "gpp.plot(x=\"t\", y=\"GR percentual\", ylabel='(Grouth rate (%/year)',\n",
    "         title=\"Growth rate in global plastics production\",\n",
    "         color=\"green\");"
   ]
  },
  {
   "cell_type": "code",
   "execution_count": 31,
   "id": "6ed7fd29",
   "metadata": {},
   "outputs": [
    {
     "data": {
      "image/png": "[encoded data removed]",
      "text/plain": [
       "<Figure size 432x288 with 1 Axes>"
      ]
     },
     "metadata": {
      "needs_background": "light"
     },
     "output_type": "display_data"
    }
   ],
   "source": [
    "# Plotting data\n",
    "\n",
    "gpp.plot(x=\"Year\", y=\"grouth rate\", ylabel='(Grouth rate (trillion tonnes/year)',\n",
    "         title=\"Growth rate in global plastics production\",\n",
    "         color=\"green\");"
   ]
  },
  {
   "cell_type": "code",
   "execution_count": null,
   "id": "2cb51d36",
   "metadata": {},
   "outputs": [],
   "source": []
  },
  {
   "cell_type": "markdown",
   "id": "8bb095b3",
   "metadata": {},
   "source": [
    "**How would you fit such a curve?** \n",
    "\n",
    "* If you have no knowledge of curve, you could fit the curve by trial and error (but different people would end up with different stories) or you could fix a to the log of production at the start of the period and fix r at the average annual growth rate that would bring the gpp up to its 2015 value (ask if you are not sure how this works). \n",
    "\n",
    "\n",
    "* However, the focus of our exercise is not curve fitting and we will not get into details here. \n",
    "\n",
    "\n",
    "* We can also use curve fitting methods (statistical techniques) to estimate the parameters for exponential relationship by regressing log(gpp) on t in Excel or some other software. \n",
    "\n",
    "\n",
    "* If we did that, the fitted model would be $$\\log(gpp) = 15.252292 + 0.077005t$$ and the linear approximation plotted against the actual data would look like as follows. We will call this model 1 (**M1**)."
   ]
  },
  {
   "cell_type": "code",
   "execution_count": null,
   "id": "c4209486",
   "metadata": {},
   "outputs": [],
   "source": []
  },
  {
   "cell_type": "markdown",
   "id": "9a9339bd",
   "metadata": {},
   "source": [
    "**If we do the plots in natural units (not logs), this is what we have. Is the model good?**"
   ]
  },
  {
   "cell_type": "code",
   "execution_count": null,
   "id": "28b58cc9",
   "metadata": {},
   "outputs": [],
   "source": []
  },
  {
   "cell_type": "markdown",
   "id": "dab44754",
   "metadata": {},
   "source": [
    "The fitted exponential curve provides a decent approximation to the actual change in plastic production but tends to grossly overestimate trens in production towards the end of the period. Therefore, we need to be cautious about using such a fit. In fact, we could explore other forms that would improve out description of the process."
   ]
  },
  {
   "cell_type": "markdown",
   "id": "a4810a14",
   "metadata": {},
   "source": [
    "---\n",
    "Step 6: Have a go at another functional form\n",
    "---\n",
    "\n",
    "Based on the plot of log of plastic production against time, we can see that the relationship between the logged value of plastic production and time appears quadratic. \n",
    "\n",
    "Therefore, \n",
    "\n",
    "$\\log(gpp) = a+bt+ct^2$\n",
    "\n",
    "where b is positive but c is negative could be better. We could fit such a curve by trial and error (e.g. in Excel) but we could also estimate is appropriately using curve fitting techniques in Excel or other software, to obtain the following: \n",
    "\n",
    "$$\\log(gpp) = 14.38 + 0.1539t − 0.001147t^2$$ \n",
    "\n",
    "or \n",
    "\n",
    "$$gpp = 1760519e^{0.1539t−0.001147t^2}.$$ \n",
    "\n",
    "* We will call this model 2 (**M2**)."
   ]
  },
  {
   "cell_type": "code",
   "execution_count": null,
   "id": "cff3c0f9",
   "metadata": {},
   "outputs": [],
   "source": [
    "# comparision is easier if we overlap the plots"
   ]
  },
  {
   "cell_type": "markdown",
   "id": "41aa34b0",
   "metadata": {},
   "source": [
    "---\n",
    "Step 7: Student exercise\n",
    "---\n",
    "\n",
    "* What does the model $\\log(gpp) = 14.38 + 0.1539t − 0.001147t^2$ imply about the predicted growth rate plastic production between 1960 and 1961, between 2000 and 2001 and between 2010 and 2011? How do these compare with the actual growth rates and with the prediction from the exponential equation?\n",
    "\n",
    "* What does this model tell us about the maximum level global plastic production could reach? When would that be reached according the model?\n",
    "\n",
    "* Generate a plot that includes the following three curves: a plot of the actual plastics production, the predicted values accoring to **M1** and **M2**. See the following:"
   ]
  },
  {
   "cell_type": "code",
   "execution_count": null,
   "id": "9825318d",
   "metadata": {},
   "outputs": [],
   "source": []
  },
  {
   "cell_type": "markdown",
   "id": "c00b3970",
   "metadata": {},
   "source": [
    "Is it wise to use a model (**M1**, **M2**, or any other similar model) to predict plastic production far into the future? Explian why?"
   ]
  }
 ],
 "metadata": {
  "kernelspec": {
   "display_name": "Python 3 (ipykernel)",
   "language": "python",
   "name": "python3"
  },
  "language_info": {
   "codemirror_mode": {
    "name": "ipython",
    "version": 3
   },
   "file_extension": ".py",
   "mimetype": "text/x-python",
   "name": "python",
   "nbconvert_exporter": "python",
   "pygments_lexer": "ipython3",
   "version": "3.7.12"
  },
  "toc": {
   "base_numbering": 1,
   "nav_menu": {},
   "number_sections": false,
   "sideBar": true,
   "skip_h1_title": true,
   "title_cell": "Table of Contents",
   "title_sidebar": "Contents",
   "toc_cell": false,
   "toc_position": {
    "height": "calc(100% - 180px)",
    "left": "10px",
    "top": "150px",
    "width": "239.948px"
   },
   "toc_section_display": true,
   "toc_window_display": true
  }
 },
 "nbformat": 4,
 "nbformat_minor": 5
}
