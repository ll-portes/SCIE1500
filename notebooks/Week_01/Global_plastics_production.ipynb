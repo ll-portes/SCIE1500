{
 "cells": [
  {
   "cell_type": "markdown",
   "id": "d66fe070",
   "metadata": {},
   "source": [
    "# Analysis of Global Plastics Production Data\n",
    "**SCIE1500**\n",
    "\n",
    "Atakelty Hailu\n",
    "February 20, 2022"
   ]
  },
  {
   "cell_type": "code",
   "execution_count": 1,
   "id": "0c6bad79",
   "metadata": {},
   "outputs": [],
   "source": [
    "%matplotlib inline\n",
    "\n",
    "import numpy as np\n",
    "import pandas as pd\n",
    "import matplotlib.pyplot as plt\n",
    "import seaborn as sns"
   ]
  },
  {
   "cell_type": "markdown",
   "id": "8f61928f",
   "metadata": {},
   "source": [
    "## INSTRUCTIONS\n",
    "Read in the data on global plastics production, visualise and explore it, and then determine what type\n",
    "of equation or mathematical model would describe the relationship between production and time. The\n",
    "exercises can also be done in Excel or other software (e.g. Python)."
   ]
  },
  {
   "cell_type": "markdown",
   "id": "f32e5b09",
   "metadata": {},
   "source": [
    "---\n",
    "Step 1: read in downloaded data and explore\n",
    "---\n",
    "\n",
    "**Remark**: if you don't have the data yet, you can dowload it from (here)[https://ourworldindata.org/plastic-pollution?utm_source=newsletter]"
   ]
  },
  {
   "cell_type": "code",
   "execution_count": 12,
   "id": "e0b4db56",
   "metadata": {},
   "outputs": [
    {
     "data": {
      "text/html": [
       "<div>\n",
       "<style scoped>\n",
       "    .dataframe tbody tr th:only-of-type {\n",
       "        vertical-align: middle;\n",
       "    }\n",
       "\n",
       "    .dataframe tbody tr th {\n",
       "        vertical-align: top;\n",
       "    }\n",
       "\n",
       "    .dataframe thead th {\n",
       "        text-align: right;\n",
       "    }\n",
       "</style>\n",
       "<table border=\"1\" class=\"dataframe\">\n",
       "  <thead>\n",
       "    <tr style=\"text-align: right;\">\n",
       "      <th></th>\n",
       "      <th>Entity</th>\n",
       "      <th>Code</th>\n",
       "      <th>Year</th>\n",
       "      <th>Global plastics production (million tonnes)</th>\n",
       "    </tr>\n",
       "  </thead>\n",
       "  <tbody>\n",
       "    <tr>\n",
       "      <th>0</th>\n",
       "      <td>World</td>\n",
       "      <td>OWID_WRL</td>\n",
       "      <td>1950</td>\n",
       "      <td>2000000</td>\n",
       "    </tr>\n",
       "    <tr>\n",
       "      <th>1</th>\n",
       "      <td>World</td>\n",
       "      <td>OWID_WRL</td>\n",
       "      <td>1951</td>\n",
       "      <td>2000000</td>\n",
       "    </tr>\n",
       "    <tr>\n",
       "      <th>2</th>\n",
       "      <td>World</td>\n",
       "      <td>OWID_WRL</td>\n",
       "      <td>1952</td>\n",
       "      <td>2000000</td>\n",
       "    </tr>\n",
       "    <tr>\n",
       "      <th>3</th>\n",
       "      <td>World</td>\n",
       "      <td>OWID_WRL</td>\n",
       "      <td>1953</td>\n",
       "      <td>3000000</td>\n",
       "    </tr>\n",
       "    <tr>\n",
       "      <th>4</th>\n",
       "      <td>World</td>\n",
       "      <td>OWID_WRL</td>\n",
       "      <td>1954</td>\n",
       "      <td>3000000</td>\n",
       "    </tr>\n",
       "    <tr>\n",
       "      <th>...</th>\n",
       "      <td>...</td>\n",
       "      <td>...</td>\n",
       "      <td>...</td>\n",
       "      <td>...</td>\n",
       "    </tr>\n",
       "    <tr>\n",
       "      <th>61</th>\n",
       "      <td>World</td>\n",
       "      <td>OWID_WRL</td>\n",
       "      <td>2011</td>\n",
       "      <td>325000000</td>\n",
       "    </tr>\n",
       "    <tr>\n",
       "      <th>62</th>\n",
       "      <td>World</td>\n",
       "      <td>OWID_WRL</td>\n",
       "      <td>2012</td>\n",
       "      <td>338000000</td>\n",
       "    </tr>\n",
       "    <tr>\n",
       "      <th>63</th>\n",
       "      <td>World</td>\n",
       "      <td>OWID_WRL</td>\n",
       "      <td>2013</td>\n",
       "      <td>352000000</td>\n",
       "    </tr>\n",
       "    <tr>\n",
       "      <th>64</th>\n",
       "      <td>World</td>\n",
       "      <td>OWID_WRL</td>\n",
       "      <td>2014</td>\n",
       "      <td>367000000</td>\n",
       "    </tr>\n",
       "    <tr>\n",
       "      <th>65</th>\n",
       "      <td>World</td>\n",
       "      <td>OWID_WRL</td>\n",
       "      <td>2015</td>\n",
       "      <td>381000000</td>\n",
       "    </tr>\n",
       "  </tbody>\n",
       "</table>\n",
       "<p>66 rows × 4 columns</p>\n",
       "</div>"
      ],
      "text/plain": [
       "   Entity      Code  Year  Global plastics production (million tonnes)\n",
       "0   World  OWID_WRL  1950                                      2000000\n",
       "1   World  OWID_WRL  1951                                      2000000\n",
       "2   World  OWID_WRL  1952                                      2000000\n",
       "3   World  OWID_WRL  1953                                      3000000\n",
       "4   World  OWID_WRL  1954                                      3000000\n",
       "..    ...       ...   ...                                          ...\n",
       "61  World  OWID_WRL  2011                                    325000000\n",
       "62  World  OWID_WRL  2012                                    338000000\n",
       "63  World  OWID_WRL  2013                                    352000000\n",
       "64  World  OWID_WRL  2014                                    367000000\n",
       "65  World  OWID_WRL  2015                                    381000000\n",
       "\n",
       "[66 rows x 4 columns]"
      ]
     },
     "execution_count": 12,
     "metadata": {},
     "output_type": "execute_result"
    }
   ],
   "source": [
    "gpp = pd.read_csv(\"global-plastics-production.csv\")\n",
    "\n",
    "gpp"
   ]
  },
  {
   "cell_type": "markdown",
   "id": "e811b740",
   "metadata": {},
   "source": [
    "Let's change the last column title from *Global plastics production (million tonnes)* to *GPP (million tonnes)*"
   ]
  },
  {
   "cell_type": "code",
   "execution_count": 13,
   "id": "5dd22a77",
   "metadata": {},
   "outputs": [
    {
     "data": {
      "text/html": [
       "<div>\n",
       "<style scoped>\n",
       "    .dataframe tbody tr th:only-of-type {\n",
       "        vertical-align: middle;\n",
       "    }\n",
       "\n",
       "    .dataframe tbody tr th {\n",
       "        vertical-align: top;\n",
       "    }\n",
       "\n",
       "    .dataframe thead th {\n",
       "        text-align: right;\n",
       "    }\n",
       "</style>\n",
       "<table border=\"1\" class=\"dataframe\">\n",
       "  <thead>\n",
       "    <tr style=\"text-align: right;\">\n",
       "      <th></th>\n",
       "      <th>Entity</th>\n",
       "      <th>Code</th>\n",
       "      <th>Year</th>\n",
       "      <th>GPP (million tonnes)</th>\n",
       "    </tr>\n",
       "  </thead>\n",
       "  <tbody>\n",
       "    <tr>\n",
       "      <th>0</th>\n",
       "      <td>World</td>\n",
       "      <td>OWID_WRL</td>\n",
       "      <td>1950</td>\n",
       "      <td>2000000</td>\n",
       "    </tr>\n",
       "    <tr>\n",
       "      <th>1</th>\n",
       "      <td>World</td>\n",
       "      <td>OWID_WRL</td>\n",
       "      <td>1951</td>\n",
       "      <td>2000000</td>\n",
       "    </tr>\n",
       "    <tr>\n",
       "      <th>2</th>\n",
       "      <td>World</td>\n",
       "      <td>OWID_WRL</td>\n",
       "      <td>1952</td>\n",
       "      <td>2000000</td>\n",
       "    </tr>\n",
       "    <tr>\n",
       "      <th>3</th>\n",
       "      <td>World</td>\n",
       "      <td>OWID_WRL</td>\n",
       "      <td>1953</td>\n",
       "      <td>3000000</td>\n",
       "    </tr>\n",
       "    <tr>\n",
       "      <th>4</th>\n",
       "      <td>World</td>\n",
       "      <td>OWID_WRL</td>\n",
       "      <td>1954</td>\n",
       "      <td>3000000</td>\n",
       "    </tr>\n",
       "    <tr>\n",
       "      <th>...</th>\n",
       "      <td>...</td>\n",
       "      <td>...</td>\n",
       "      <td>...</td>\n",
       "      <td>...</td>\n",
       "    </tr>\n",
       "    <tr>\n",
       "      <th>61</th>\n",
       "      <td>World</td>\n",
       "      <td>OWID_WRL</td>\n",
       "      <td>2011</td>\n",
       "      <td>325000000</td>\n",
       "    </tr>\n",
       "    <tr>\n",
       "      <th>62</th>\n",
       "      <td>World</td>\n",
       "      <td>OWID_WRL</td>\n",
       "      <td>2012</td>\n",
       "      <td>338000000</td>\n",
       "    </tr>\n",
       "    <tr>\n",
       "      <th>63</th>\n",
       "      <td>World</td>\n",
       "      <td>OWID_WRL</td>\n",
       "      <td>2013</td>\n",
       "      <td>352000000</td>\n",
       "    </tr>\n",
       "    <tr>\n",
       "      <th>64</th>\n",
       "      <td>World</td>\n",
       "      <td>OWID_WRL</td>\n",
       "      <td>2014</td>\n",
       "      <td>367000000</td>\n",
       "    </tr>\n",
       "    <tr>\n",
       "      <th>65</th>\n",
       "      <td>World</td>\n",
       "      <td>OWID_WRL</td>\n",
       "      <td>2015</td>\n",
       "      <td>381000000</td>\n",
       "    </tr>\n",
       "  </tbody>\n",
       "</table>\n",
       "<p>66 rows × 4 columns</p>\n",
       "</div>"
      ],
      "text/plain": [
       "   Entity      Code  Year  GPP (million tonnes)\n",
       "0   World  OWID_WRL  1950               2000000\n",
       "1   World  OWID_WRL  1951               2000000\n",
       "2   World  OWID_WRL  1952               2000000\n",
       "3   World  OWID_WRL  1953               3000000\n",
       "4   World  OWID_WRL  1954               3000000\n",
       "..    ...       ...   ...                   ...\n",
       "61  World  OWID_WRL  2011             325000000\n",
       "62  World  OWID_WRL  2012             338000000\n",
       "63  World  OWID_WRL  2013             352000000\n",
       "64  World  OWID_WRL  2014             367000000\n",
       "65  World  OWID_WRL  2015             381000000\n",
       "\n",
       "[66 rows x 4 columns]"
      ]
     },
     "execution_count": 13,
     "metadata": {},
     "output_type": "execute_result"
    }
   ],
   "source": [
    "gpp.rename(columns={'Global plastics production (million tonnes)':'GPP (million tonnes)'}, inplace = True)\n",
    "\n",
    "gpp"
   ]
  },
  {
   "cell_type": "code",
   "execution_count": null,
   "id": "712e2534",
   "metadata": {},
   "outputs": [],
   "source": []
  },
  {
   "cell_type": "markdown",
   "id": "dfd7bedc",
   "metadata": {},
   "source": [
    "1. What is the min, max, mean of gpp?\n",
    "2. What are the log values of these statistics (min, max, mean)?"
   ]
  },
  {
   "cell_type": "code",
   "execution_count": 37,
   "id": "a3fb0549",
   "metadata": {},
   "outputs": [
    {
     "data": {
      "text/plain": [
       "2000000"
      ]
     },
     "execution_count": 37,
     "metadata": {},
     "output_type": "execute_result"
    }
   ],
   "source": [
    "gpp[\"GPP (million tonnes)\"].min()"
   ]
  },
  {
   "cell_type": "code",
   "execution_count": 38,
   "id": "b8f2ce4e",
   "metadata": {},
   "outputs": [
    {
     "data": {
      "text/plain": [
       "381000000"
      ]
     },
     "execution_count": 38,
     "metadata": {},
     "output_type": "execute_result"
    }
   ],
   "source": [
    "gpp[\"GPP (million tonnes)\"].max()"
   ]
  },
  {
   "cell_type": "code",
   "execution_count": 39,
   "id": "414032c9",
   "metadata": {},
   "outputs": [
    {
     "data": {
      "text/plain": [
       "118530303.03030303"
      ]
     },
     "execution_count": 39,
     "metadata": {},
     "output_type": "execute_result"
    }
   ],
   "source": [
    "gpp[\"GPP (million tonnes)\"].mean()"
   ]
  },
  {
   "cell_type": "markdown",
   "id": "51c0fae9",
   "metadata": {},
   "source": [
    "---\n",
    "Step 2: extract variables and use shorter simpler names\n",
    "---\n",
    "\n",
    "Also, create a time trend based on year (for easier modelling) as it is the passage of time rather\n",
    "than the actual calendar year that we are interested in. t is also smaller than calendar year."
   ]
  },
  {
   "cell_type": "code",
   "execution_count": 15,
   "id": "74c27bd9",
   "metadata": {},
   "outputs": [
    {
     "data": {
      "image/png": "[encoded data removed]",
      "text/plain": [
       "<Figure size 432x288 with 1 Axes>"
      ]
     },
     "metadata": {
      "needs_background": "light"
     },
     "output_type": "display_data"
    }
   ],
   "source": [
    "gpp.plot(x=\"Year\", y=\"GPP (million tonnes)\", title=\"Global plastics production\");"
   ]
  },
  {
   "cell_type": "code",
   "execution_count": 16,
   "id": "b44742a1",
   "metadata": {},
   "outputs": [
    {
     "data": {
      "text/html": [
       "<div>\n",
       "<style scoped>\n",
       "    .dataframe tbody tr th:only-of-type {\n",
       "        vertical-align: middle;\n",
       "    }\n",
       "\n",
       "    .dataframe tbody tr th {\n",
       "        vertical-align: top;\n",
       "    }\n",
       "\n",
       "    .dataframe thead th {\n",
       "        text-align: right;\n",
       "    }\n",
       "</style>\n",
       "<table border=\"1\" class=\"dataframe\">\n",
       "  <thead>\n",
       "    <tr style=\"text-align: right;\">\n",
       "      <th></th>\n",
       "      <th>Entity</th>\n",
       "      <th>Code</th>\n",
       "      <th>Year</th>\n",
       "      <th>GPP (million tonnes)</th>\n",
       "      <th>t</th>\n",
       "    </tr>\n",
       "  </thead>\n",
       "  <tbody>\n",
       "    <tr>\n",
       "      <th>0</th>\n",
       "      <td>World</td>\n",
       "      <td>OWID_WRL</td>\n",
       "      <td>1950</td>\n",
       "      <td>2000000</td>\n",
       "      <td>1</td>\n",
       "    </tr>\n",
       "    <tr>\n",
       "      <th>1</th>\n",
       "      <td>World</td>\n",
       "      <td>OWID_WRL</td>\n",
       "      <td>1951</td>\n",
       "      <td>2000000</td>\n",
       "      <td>2</td>\n",
       "    </tr>\n",
       "    <tr>\n",
       "      <th>2</th>\n",
       "      <td>World</td>\n",
       "      <td>OWID_WRL</td>\n",
       "      <td>1952</td>\n",
       "      <td>2000000</td>\n",
       "      <td>3</td>\n",
       "    </tr>\n",
       "    <tr>\n",
       "      <th>3</th>\n",
       "      <td>World</td>\n",
       "      <td>OWID_WRL</td>\n",
       "      <td>1953</td>\n",
       "      <td>3000000</td>\n",
       "      <td>4</td>\n",
       "    </tr>\n",
       "    <tr>\n",
       "      <th>4</th>\n",
       "      <td>World</td>\n",
       "      <td>OWID_WRL</td>\n",
       "      <td>1954</td>\n",
       "      <td>3000000</td>\n",
       "      <td>5</td>\n",
       "    </tr>\n",
       "    <tr>\n",
       "      <th>...</th>\n",
       "      <td>...</td>\n",
       "      <td>...</td>\n",
       "      <td>...</td>\n",
       "      <td>...</td>\n",
       "      <td>...</td>\n",
       "    </tr>\n",
       "    <tr>\n",
       "      <th>61</th>\n",
       "      <td>World</td>\n",
       "      <td>OWID_WRL</td>\n",
       "      <td>2011</td>\n",
       "      <td>325000000</td>\n",
       "      <td>62</td>\n",
       "    </tr>\n",
       "    <tr>\n",
       "      <th>62</th>\n",
       "      <td>World</td>\n",
       "      <td>OWID_WRL</td>\n",
       "      <td>2012</td>\n",
       "      <td>338000000</td>\n",
       "      <td>63</td>\n",
       "    </tr>\n",
       "    <tr>\n",
       "      <th>63</th>\n",
       "      <td>World</td>\n",
       "      <td>OWID_WRL</td>\n",
       "      <td>2013</td>\n",
       "      <td>352000000</td>\n",
       "      <td>64</td>\n",
       "    </tr>\n",
       "    <tr>\n",
       "      <th>64</th>\n",
       "      <td>World</td>\n",
       "      <td>OWID_WRL</td>\n",
       "      <td>2014</td>\n",
       "      <td>367000000</td>\n",
       "      <td>65</td>\n",
       "    </tr>\n",
       "    <tr>\n",
       "      <th>65</th>\n",
       "      <td>World</td>\n",
       "      <td>OWID_WRL</td>\n",
       "      <td>2015</td>\n",
       "      <td>381000000</td>\n",
       "      <td>66</td>\n",
       "    </tr>\n",
       "  </tbody>\n",
       "</table>\n",
       "<p>66 rows × 5 columns</p>\n",
       "</div>"
      ],
      "text/plain": [
       "   Entity      Code  Year  GPP (million tonnes)   t\n",
       "0   World  OWID_WRL  1950               2000000   1\n",
       "1   World  OWID_WRL  1951               2000000   2\n",
       "2   World  OWID_WRL  1952               2000000   3\n",
       "3   World  OWID_WRL  1953               3000000   4\n",
       "4   World  OWID_WRL  1954               3000000   5\n",
       "..    ...       ...   ...                   ...  ..\n",
       "61  World  OWID_WRL  2011             325000000  62\n",
       "62  World  OWID_WRL  2012             338000000  63\n",
       "63  World  OWID_WRL  2013             352000000  64\n",
       "64  World  OWID_WRL  2014             367000000  65\n",
       "65  World  OWID_WRL  2015             381000000  66\n",
       "\n",
       "[66 rows x 5 columns]"
      ]
     },
     "execution_count": 16,
     "metadata": {},
     "output_type": "execute_result"
    }
   ],
   "source": [
    "gpp[\"t\"] = gpp[\"Year\"] - 1949\n",
    "\n",
    "gpp"
   ]
  },
  {
   "cell_type": "code",
   "execution_count": 17,
   "id": "4ee71742",
   "metadata": {},
   "outputs": [
    {
     "data": {
      "image/png": "[encoded data removed]",
      "text/plain": [
       "<Figure size 432x288 with 1 Axes>"
      ]
     },
     "metadata": {
      "needs_background": "light"
     },
     "output_type": "display_data"
    }
   ],
   "source": [
    "# your answer\n",
    "\n",
    "gpp.plot(x=\"t\", y=\"GPP (million tonnes)\");"
   ]
  },
  {
   "cell_type": "markdown",
   "id": "7f747303",
   "metadata": {},
   "source": [
    "---\n",
    "Step 3: visualise data\n",
    "---"
   ]
  },
  {
   "cell_type": "code",
   "execution_count": 18,
   "id": "5bc3c19d",
   "metadata": {},
   "outputs": [
    {
     "data": {
      "image/png": "[encoded data removed]",
      "text/plain": [
       "<Figure size 432x288 with 1 Axes>"
      ]
     },
     "metadata": {
      "needs_background": "light"
     },
     "output_type": "display_data"
    }
   ],
   "source": [
    "gpp.plot(x=\"Year\", y=\"GPP (million tonnes)\", \n",
    "        title=\"Global plastics production\");"
   ]
  },
  {
   "cell_type": "markdown",
   "id": "deb92da7",
   "metadata": {},
   "source": [
    "---\n",
    "Step 4: Explore effect of scaling and transformation (logs)\n",
    "---\n",
    "\n",
    "Plastic production in trillion tonnes."
   ]
  },
  {
   "cell_type": "code",
   "execution_count": 19,
   "id": "ee1c9884",
   "metadata": {},
   "outputs": [
    {
     "data": {
      "text/html": [
       "<div>\n",
       "<style scoped>\n",
       "    .dataframe tbody tr th:only-of-type {\n",
       "        vertical-align: middle;\n",
       "    }\n",
       "\n",
       "    .dataframe tbody tr th {\n",
       "        vertical-align: top;\n",
       "    }\n",
       "\n",
       "    .dataframe thead th {\n",
       "        text-align: right;\n",
       "    }\n",
       "</style>\n",
       "<table border=\"1\" class=\"dataframe\">\n",
       "  <thead>\n",
       "    <tr style=\"text-align: right;\">\n",
       "      <th></th>\n",
       "      <th>Entity</th>\n",
       "      <th>Code</th>\n",
       "      <th>Year</th>\n",
       "      <th>GPP (million tonnes)</th>\n",
       "      <th>t</th>\n",
       "      <th>GPP (trillion tonnes)</th>\n",
       "    </tr>\n",
       "  </thead>\n",
       "  <tbody>\n",
       "    <tr>\n",
       "      <th>0</th>\n",
       "      <td>World</td>\n",
       "      <td>OWID_WRL</td>\n",
       "      <td>1950</td>\n",
       "      <td>2000000</td>\n",
       "      <td>1</td>\n",
       "      <td>2.0</td>\n",
       "    </tr>\n",
       "    <tr>\n",
       "      <th>1</th>\n",
       "      <td>World</td>\n",
       "      <td>OWID_WRL</td>\n",
       "      <td>1951</td>\n",
       "      <td>2000000</td>\n",
       "      <td>2</td>\n",
       "      <td>2.0</td>\n",
       "    </tr>\n",
       "    <tr>\n",
       "      <th>2</th>\n",
       "      <td>World</td>\n",
       "      <td>OWID_WRL</td>\n",
       "      <td>1952</td>\n",
       "      <td>2000000</td>\n",
       "      <td>3</td>\n",
       "      <td>2.0</td>\n",
       "    </tr>\n",
       "    <tr>\n",
       "      <th>3</th>\n",
       "      <td>World</td>\n",
       "      <td>OWID_WRL</td>\n",
       "      <td>1953</td>\n",
       "      <td>3000000</td>\n",
       "      <td>4</td>\n",
       "      <td>3.0</td>\n",
       "    </tr>\n",
       "    <tr>\n",
       "      <th>4</th>\n",
       "      <td>World</td>\n",
       "      <td>OWID_WRL</td>\n",
       "      <td>1954</td>\n",
       "      <td>3000000</td>\n",
       "      <td>5</td>\n",
       "      <td>3.0</td>\n",
       "    </tr>\n",
       "    <tr>\n",
       "      <th>...</th>\n",
       "      <td>...</td>\n",
       "      <td>...</td>\n",
       "      <td>...</td>\n",
       "      <td>...</td>\n",
       "      <td>...</td>\n",
       "      <td>...</td>\n",
       "    </tr>\n",
       "    <tr>\n",
       "      <th>61</th>\n",
       "      <td>World</td>\n",
       "      <td>OWID_WRL</td>\n",
       "      <td>2011</td>\n",
       "      <td>325000000</td>\n",
       "      <td>62</td>\n",
       "      <td>325.0</td>\n",
       "    </tr>\n",
       "    <tr>\n",
       "      <th>62</th>\n",
       "      <td>World</td>\n",
       "      <td>OWID_WRL</td>\n",
       "      <td>2012</td>\n",
       "      <td>338000000</td>\n",
       "      <td>63</td>\n",
       "      <td>338.0</td>\n",
       "    </tr>\n",
       "    <tr>\n",
       "      <th>63</th>\n",
       "      <td>World</td>\n",
       "      <td>OWID_WRL</td>\n",
       "      <td>2013</td>\n",
       "      <td>352000000</td>\n",
       "      <td>64</td>\n",
       "      <td>352.0</td>\n",
       "    </tr>\n",
       "    <tr>\n",
       "      <th>64</th>\n",
       "      <td>World</td>\n",
       "      <td>OWID_WRL</td>\n",
       "      <td>2014</td>\n",
       "      <td>367000000</td>\n",
       "      <td>65</td>\n",
       "      <td>367.0</td>\n",
       "    </tr>\n",
       "    <tr>\n",
       "      <th>65</th>\n",
       "      <td>World</td>\n",
       "      <td>OWID_WRL</td>\n",
       "      <td>2015</td>\n",
       "      <td>381000000</td>\n",
       "      <td>66</td>\n",
       "      <td>381.0</td>\n",
       "    </tr>\n",
       "  </tbody>\n",
       "</table>\n",
       "<p>66 rows × 6 columns</p>\n",
       "</div>"
      ],
      "text/plain": [
       "   Entity      Code  Year  GPP (million tonnes)   t  GPP (trillion tonnes)\n",
       "0   World  OWID_WRL  1950               2000000   1                    2.0\n",
       "1   World  OWID_WRL  1951               2000000   2                    2.0\n",
       "2   World  OWID_WRL  1952               2000000   3                    2.0\n",
       "3   World  OWID_WRL  1953               3000000   4                    3.0\n",
       "4   World  OWID_WRL  1954               3000000   5                    3.0\n",
       "..    ...       ...   ...                   ...  ..                    ...\n",
       "61  World  OWID_WRL  2011             325000000  62                  325.0\n",
       "62  World  OWID_WRL  2012             338000000  63                  338.0\n",
       "63  World  OWID_WRL  2013             352000000  64                  352.0\n",
       "64  World  OWID_WRL  2014             367000000  65                  367.0\n",
       "65  World  OWID_WRL  2015             381000000  66                  381.0\n",
       "\n",
       "[66 rows x 6 columns]"
      ]
     },
     "execution_count": 19,
     "metadata": {},
     "output_type": "execute_result"
    }
   ],
   "source": [
    "gpp[\"GPP (trillion tonnes)\"] = gpp[\"GPP (million tonnes)\"]/1000000\n",
    "\n",
    "gpp"
   ]
  },
  {
   "cell_type": "code",
   "execution_count": 26,
   "id": "280ad082",
   "metadata": {},
   "outputs": [
    {
     "data": {
      "image/png": "[encoded data removed]",
      "text/plain": [
       "<Figure size 432x288 with 1 Axes>"
      ]
     },
     "metadata": {
      "needs_background": "light"
     },
     "output_type": "display_data"
    }
   ],
   "source": [
    "gpp.plot(x=\"Year\", y=\"GPP (trillion tonnes)\", title=\"Global plastics production\", \n",
    "         color=\"blue\", lw=4);"
   ]
  },
  {
   "cell_type": "code",
   "execution_count": 29,
   "id": "50e21254",
   "metadata": {},
   "outputs": [
    {
     "data": {
      "text/plain": [
       "<matplotlib.lines.Line2D at 0x7f17a2957dd0>"
      ]
     },
     "execution_count": 29,
     "metadata": {},
     "output_type": "execute_result"
    },
    {
     "data": {
      "image/png": "[encoded data removed]",
      "text/plain": [
       "<Figure size 432x288 with 1 Axes>"
      ]
     },
     "metadata": {
      "needs_background": "light"
     },
     "output_type": "display_data"
    }
   ],
   "source": [
    "ax = gpp.plot(x=\"Year\", y=\"GPP (trillion tonnes)\", title=\"Global plastics production\", \n",
    "         color=\"blue\", lw=4);\n",
    "\n",
    "ax.axhline(100);"
   ]
  },
  {
   "cell_type": "code",
   "execution_count": 40,
   "id": "33a97b2d",
   "metadata": {},
   "outputs": [
    {
     "data": {
      "text/plain": [
       "118.53030303030303"
      ]
     },
     "execution_count": 40,
     "metadata": {},
     "output_type": "execute_result"
    }
   ],
   "source": [
    "gpp[\"GPP (trillion tonnes)\"].mean()"
   ]
  },
  {
   "cell_type": "code",
   "execution_count": 44,
   "id": "196e6d69",
   "metadata": {},
   "outputs": [
    {
     "data": {
      "image/png": "[encoded data removed]",
      "text/plain": [
       "<Figure size 432x288 with 1 Axes>"
      ]
     },
     "metadata": {
      "needs_background": "light"
     },
     "output_type": "display_data"
    }
   ],
   "source": [
    "ax = gpp.plot(x=\"Year\", y=\"GPP (trillion tonnes)\", title=\"Global plastics production\", \n",
    "         color=\"blue\", lw=4);\n",
    "\n",
    "ax.axhline(118.53030303030303, ls=\"--\", color=\"gray\");"
   ]
  },
  {
   "cell_type": "markdown",
   "id": "d3dbd37f",
   "metadata": {},
   "source": [
    "**Why do think we need to scale data?**\n",
    "\n",
    "Let’s now use a log scale for the y-axis, where equal distances (50 to 100, and 100 to 200) represent\n",
    "a doubling of the value, rather than the addition of the same amount."
   ]
  },
  {
   "cell_type": "code",
   "execution_count": 45,
   "id": "8600d8e6",
   "metadata": {},
   "outputs": [
    {
     "data": {
      "image/png": "[encoded data removed]",
      "text/plain": [
       "<Figure size 432x288 with 1 Axes>"
      ]
     },
     "metadata": {
      "needs_background": "light"
     },
     "output_type": "display_data"
    }
   ],
   "source": [
    "gpp.plot(x=\"Year\", y=\"GPP (trillion tonnes)\", title=\"Global plastics production\", \n",
    "         color=\"blue\", lw=4, \n",
    "        logy=True);"
   ]
  },
  {
   "cell_type": "markdown",
   "id": "5c7e0d22",
   "metadata": {},
   "source": [
    "Let’s create logged value for the production data."
   ]
  },
  {
   "cell_type": "code",
   "execution_count": 46,
   "id": "ca8f154e",
   "metadata": {},
   "outputs": [
    {
     "data": {
      "text/html": [
       "<div>\n",
       "<style scoped>\n",
       "    .dataframe tbody tr th:only-of-type {\n",
       "        vertical-align: middle;\n",
       "    }\n",
       "\n",
       "    .dataframe tbody tr th {\n",
       "        vertical-align: top;\n",
       "    }\n",
       "\n",
       "    .dataframe thead th {\n",
       "        text-align: right;\n",
       "    }\n",
       "</style>\n",
       "<table border=\"1\" class=\"dataframe\">\n",
       "  <thead>\n",
       "    <tr style=\"text-align: right;\">\n",
       "      <th></th>\n",
       "      <th>Entity</th>\n",
       "      <th>Code</th>\n",
       "      <th>Year</th>\n",
       "      <th>GPP (million tonnes)</th>\n",
       "      <th>t</th>\n",
       "      <th>GPP (trillion tonnes)</th>\n",
       "      <th>GPP (million tonnes, log)</th>\n",
       "    </tr>\n",
       "  </thead>\n",
       "  <tbody>\n",
       "    <tr>\n",
       "      <th>0</th>\n",
       "      <td>World</td>\n",
       "      <td>OWID_WRL</td>\n",
       "      <td>1950</td>\n",
       "      <td>2000000</td>\n",
       "      <td>1</td>\n",
       "      <td>2.0</td>\n",
       "      <td>6.301030</td>\n",
       "    </tr>\n",
       "    <tr>\n",
       "      <th>1</th>\n",
       "      <td>World</td>\n",
       "      <td>OWID_WRL</td>\n",
       "      <td>1951</td>\n",
       "      <td>2000000</td>\n",
       "      <td>2</td>\n",
       "      <td>2.0</td>\n",
       "      <td>6.301030</td>\n",
       "    </tr>\n",
       "    <tr>\n",
       "      <th>2</th>\n",
       "      <td>World</td>\n",
       "      <td>OWID_WRL</td>\n",
       "      <td>1952</td>\n",
       "      <td>2000000</td>\n",
       "      <td>3</td>\n",
       "      <td>2.0</td>\n",
       "      <td>6.301030</td>\n",
       "    </tr>\n",
       "    <tr>\n",
       "      <th>3</th>\n",
       "      <td>World</td>\n",
       "      <td>OWID_WRL</td>\n",
       "      <td>1953</td>\n",
       "      <td>3000000</td>\n",
       "      <td>4</td>\n",
       "      <td>3.0</td>\n",
       "      <td>6.477121</td>\n",
       "    </tr>\n",
       "    <tr>\n",
       "      <th>4</th>\n",
       "      <td>World</td>\n",
       "      <td>OWID_WRL</td>\n",
       "      <td>1954</td>\n",
       "      <td>3000000</td>\n",
       "      <td>5</td>\n",
       "      <td>3.0</td>\n",
       "      <td>6.477121</td>\n",
       "    </tr>\n",
       "    <tr>\n",
       "      <th>...</th>\n",
       "      <td>...</td>\n",
       "      <td>...</td>\n",
       "      <td>...</td>\n",
       "      <td>...</td>\n",
       "      <td>...</td>\n",
       "      <td>...</td>\n",
       "      <td>...</td>\n",
       "    </tr>\n",
       "    <tr>\n",
       "      <th>61</th>\n",
       "      <td>World</td>\n",
       "      <td>OWID_WRL</td>\n",
       "      <td>2011</td>\n",
       "      <td>325000000</td>\n",
       "      <td>62</td>\n",
       "      <td>325.0</td>\n",
       "      <td>8.511883</td>\n",
       "    </tr>\n",
       "    <tr>\n",
       "      <th>62</th>\n",
       "      <td>World</td>\n",
       "      <td>OWID_WRL</td>\n",
       "      <td>2012</td>\n",
       "      <td>338000000</td>\n",
       "      <td>63</td>\n",
       "      <td>338.0</td>\n",
       "      <td>8.528917</td>\n",
       "    </tr>\n",
       "    <tr>\n",
       "      <th>63</th>\n",
       "      <td>World</td>\n",
       "      <td>OWID_WRL</td>\n",
       "      <td>2013</td>\n",
       "      <td>352000000</td>\n",
       "      <td>64</td>\n",
       "      <td>352.0</td>\n",
       "      <td>8.546543</td>\n",
       "    </tr>\n",
       "    <tr>\n",
       "      <th>64</th>\n",
       "      <td>World</td>\n",
       "      <td>OWID_WRL</td>\n",
       "      <td>2014</td>\n",
       "      <td>367000000</td>\n",
       "      <td>65</td>\n",
       "      <td>367.0</td>\n",
       "      <td>8.564666</td>\n",
       "    </tr>\n",
       "    <tr>\n",
       "      <th>65</th>\n",
       "      <td>World</td>\n",
       "      <td>OWID_WRL</td>\n",
       "      <td>2015</td>\n",
       "      <td>381000000</td>\n",
       "      <td>66</td>\n",
       "      <td>381.0</td>\n",
       "      <td>8.580925</td>\n",
       "    </tr>\n",
       "  </tbody>\n",
       "</table>\n",
       "<p>66 rows × 7 columns</p>\n",
       "</div>"
      ],
      "text/plain": [
       "   Entity      Code  Year  GPP (million tonnes)   t  GPP (trillion tonnes)  \\\n",
       "0   World  OWID_WRL  1950               2000000   1                    2.0   \n",
       "1   World  OWID_WRL  1951               2000000   2                    2.0   \n",
       "2   World  OWID_WRL  1952               2000000   3                    2.0   \n",
       "3   World  OWID_WRL  1953               3000000   4                    3.0   \n",
       "4   World  OWID_WRL  1954               3000000   5                    3.0   \n",
       "..    ...       ...   ...                   ...  ..                    ...   \n",
       "61  World  OWID_WRL  2011             325000000  62                  325.0   \n",
       "62  World  OWID_WRL  2012             338000000  63                  338.0   \n",
       "63  World  OWID_WRL  2013             352000000  64                  352.0   \n",
       "64  World  OWID_WRL  2014             367000000  65                  367.0   \n",
       "65  World  OWID_WRL  2015             381000000  66                  381.0   \n",
       "\n",
       "    GPP (million tonnes, log)  \n",
       "0                    6.301030  \n",
       "1                    6.301030  \n",
       "2                    6.301030  \n",
       "3                    6.477121  \n",
       "4                    6.477121  \n",
       "..                        ...  \n",
       "61                   8.511883  \n",
       "62                   8.528917  \n",
       "63                   8.546543  \n",
       "64                   8.564666  \n",
       "65                   8.580925  \n",
       "\n",
       "[66 rows x 7 columns]"
      ]
     },
     "execution_count": 46,
     "metadata": {},
     "output_type": "execute_result"
    }
   ],
   "source": [
    "gpp[\"GPP (million tonnes, log)\"] = np.log10(gpp[\"GPP (million tonnes)\"])\n",
    "\n",
    "gpp"
   ]
  },
  {
   "cell_type": "markdown",
   "id": "41415c5c",
   "metadata": {},
   "source": [
    "Now, we have two options:\n",
    "\n",
    "1. We could plot the raw data (million tonnes) and use a log scale on the y-axis.\n",
    "2. Or we could actually plot the logged value of the data (log.ppd.million.tonnes). \n",
    "\n",
    "**Compare the effects of using log scale in plotting against transforming the data (using logs) and then plotting the transformed data.**"
   ]
  },
  {
   "cell_type": "code",
   "execution_count": 51,
   "id": "b4c553a8",
   "metadata": {},
   "outputs": [
    {
     "data": {
      "image/png": "[encoded data removed]",
      "text/plain": [
       "<Figure size 432x288 with 1 Axes>"
      ]
     },
     "metadata": {
      "needs_background": "light"
     },
     "output_type": "display_data"
    }
   ],
   "source": [
    "gpp.plot(x=\"Year\", y=\"GPP (million tonnes)\", title=\"Global plastics production \\n Log scale\",\n",
    "        logy=True);"
   ]
  },
  {
   "cell_type": "code",
   "execution_count": 52,
   "id": "ac480ee2",
   "metadata": {},
   "outputs": [
    {
     "data": {
      "image/png": "[encoded data removed]",
      "text/plain": [
       "<Figure size 432x288 with 1 Axes>"
      ]
     },
     "metadata": {
      "needs_background": "light"
     },
     "output_type": "display_data"
    }
   ],
   "source": [
    "gpp.plot(x=\"Year\", y=\"GPP (million tonnes, log)\", title=\"Global plastics production \\n Log values\", color=\"red\");"
   ]
  },
  {
   "cell_type": "markdown",
   "id": "fb8cb663",
   "metadata": {},
   "source": [
    "---\n",
    "Step 5: What is the story about the growth rates in plastic production?\n",
    "---\n",
    "\n",
    "Calculate the growth rates in plastic production for each of the years between 1951 and 2015\n",
    "(inclusive)? Summarise the growth rates: determine minimum, maximum, median and mean\n",
    "growth rates? Write down your observations about the growth rates."
   ]
  },
  {
   "cell_type": "code",
   "execution_count": null,
   "id": "95c1e34f",
   "metadata": {},
   "outputs": [],
   "source": []
  },
  {
   "cell_type": "markdown",
   "id": "09f758ae",
   "metadata": {},
   "source": [
    "---\n",
    "Step 6: Determine if an exponential relationship is appropriate\n",
    "---\n",
    "\n",
    "Do the plots done so far suggest a functional form? What do we know about how plastic production increases over time. One thing we know for sure is that the increase in production is increasing over time. Therefore, a linear relationship (such as gpp = a + b ∗ t) is not appropriate. And that is clear from the plot which is closer to being exponential or a quadratic curve opening up than to a linear curve.\n",
    "\n",
    "We can also assess whether an exponential relationship is appropriate by plotting the log of the gpp against time and checking if that appears linear. This is because if gpp grown exponentially over time (i.e. gpp = a.e rt , where r is the rate of exponential growth), then that relationship would be a linear relationship between time and the logged value of gpp. Why? gpp = a.e rt and log(gpp) = a + rt represent the same process or relationship. In other words, an explonential relationship implies that the rate of growth or proportional increase in gpp is constant over time. So, let’s check if what we have looks like this: log(gpp) = a + rt, i.e. log(gpp) is a linear function of time. Does the plot below appear linear or very close to being linear?"
   ]
  },
  {
   "cell_type": "code",
   "execution_count": null,
   "id": "2cb51d36",
   "metadata": {},
   "outputs": [],
   "source": []
  },
  {
   "cell_type": "markdown",
   "id": "8bb095b3",
   "metadata": {},
   "source": [
    "How would you fit such a curve? If you have no knowledge of curve, you could fit the curve by trial and error (but different people would end up with different stories) or you could fix a to the log of production at the start of the period and fix r at the average annual growth rate that would bring the gpp up to its 2015 value (ask if you are not sure how this works). However, the focus of our exercise is not curve fitting and we will not get into details here. We can also use curve fitting methods (statistical techniques) to estimate the parameters for exponential relationship by regressing log(gpp) on t in Excel or some other software. If we did that, the fitted model would be log(gpp) = 15.252292 + 0.077005 ∗ t and the linear approximation plotted against the actual data would look like as follows. We will call this model 1 (**M1**)."
   ]
  },
  {
   "cell_type": "code",
   "execution_count": null,
   "id": "c4209486",
   "metadata": {},
   "outputs": [],
   "source": []
  },
  {
   "cell_type": "markdown",
   "id": "9a9339bd",
   "metadata": {},
   "source": [
    "**If we do the plots in natural units (not logs), this is what we have. Is the model good?**"
   ]
  },
  {
   "cell_type": "code",
   "execution_count": null,
   "id": "28b58cc9",
   "metadata": {},
   "outputs": [],
   "source": []
  },
  {
   "cell_type": "markdown",
   "id": "dab44754",
   "metadata": {},
   "source": [
    "The fitted exponential curve provides a decent approximation to the actual change in plastic production but tends to grossly overestimate trens in production towards the end of the period. Therefore, we need to be cautious about using such a fit. In fact, we could explore other forms that would improve out description of the process."
   ]
  },
  {
   "cell_type": "markdown",
   "id": "a4810a14",
   "metadata": {},
   "source": [
    "---\n",
    "Step 6: Have a go at another functional form\n",
    "---\n",
    "\n",
    "Based on the plot of log of plastic production against time, we can see that the relationship between the logged value of plastic production and time appears quadratic. \n",
    "\n",
    "Therefore, \n",
    "\n",
    "$log(gpp) = a+bt+ct^2$\n",
    "\n",
    "where b is positive but c is negative could be better. We could fit such a curve by trial and error (e.g. in Excel) but we could also estimate is appropriately using curve fitting techniques in Excel or other software, to obtain the following: \n",
    "\n",
    "* $log(gpp) = 14.38 + 0.1539t − 0.001147t^2$. \n",
    "\n",
    "* or $gpp = 1760519e^{0.1539t−0.001147t^2}$. \n",
    "\n",
    "We will call this model 2 (**M2**)."
   ]
  },
  {
   "cell_type": "code",
   "execution_count": null,
   "id": "cff3c0f9",
   "metadata": {},
   "outputs": [],
   "source": [
    "# comparision is easier if we overlap the plots"
   ]
  },
  {
   "cell_type": "markdown",
   "id": "41aa34b0",
   "metadata": {},
   "source": [
    "---\n",
    "Step 7: Student exercise\n",
    "---\n",
    "\n",
    "* What does the model $log(gpp) = 14.38 + 0.1539t − 0.001147t^2$ imply about the predicted growth rate plastic production between 1960 and 1961, between 2000 and 2001 and between 2010 and 2011? How do these compare with the actual growth rates and with the prediction from the exponential equation?\n",
    "\n",
    "* What does this model tell us about the maximum level global plastic production could reach? When would that be reached according the model?\n",
    "\n",
    "* Generate a plot that includes the following three curves: a plot of the actual plastics production, the predicted values accoring to **M1** and **M2**. See the following:"
   ]
  },
  {
   "cell_type": "code",
   "execution_count": null,
   "id": "9825318d",
   "metadata": {},
   "outputs": [],
   "source": []
  },
  {
   "cell_type": "markdown",
   "id": "c00b3970",
   "metadata": {},
   "source": [
    "Is it wise to use a model (**M1**, **M2**, or any other similar model) to predict plastic production far into the future? Explian why?"
   ]
  },
  {
   "cell_type": "markdown",
   "id": "12c11c2c",
   "metadata": {},
   "source": []
  }
 ],
 "metadata": {
  "kernelspec": {
   "display_name": "Python 3",
   "language": "python",
   "name": "python3"
  },
  "language_info": {
   "codemirror_mode": {
    "name": "ipython",
    "version": 3
   },
   "file_extension": ".py",
   "mimetype": "text/x-python",
   "name": "python",
   "nbconvert_exporter": "python",
   "pygments_lexer": "ipython3",
   "version": "3.7.10"
  },
  "toc": {
   "base_numbering": 1,
   "nav_menu": {},
   "number_sections": true,
   "sideBar": true,
   "skip_h1_title": true,
   "title_cell": "Table of Contents",
   "title_sidebar": "Contents",
   "toc_cell": false,
   "toc_position": {},
   "toc_section_display": true,
   "toc_window_display": false
  }
 },
 "nbformat": 4,
 "nbformat_minor": 5
}
